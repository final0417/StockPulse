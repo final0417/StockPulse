{
 "cells": [
  {
   "cell_type": "code",
   "execution_count": 1,
   "id": "6bce5bbc",
   "metadata": {},
   "outputs": [
    {
     "name": "stderr",
     "output_type": "stream",
     "text": [
      "C:\\Users\\tridi\\anaconda3\\lib\\site-packages\\pandas\\core\\computation\\expressions.py:20: UserWarning: Pandas requires version '2.7.3' or newer of 'numexpr' (version '2.7.1' currently installed).\n",
      "  from pandas.core.computation.check import NUMEXPR_INSTALLED\n"
     ]
    }
   ],
   "source": [
    "import numpy as np\n",
    "import pandas as pd"
   ]
  },
  {
   "cell_type": "code",
   "execution_count": 2,
   "id": "c92c2a12",
   "metadata": {},
   "outputs": [
    {
     "data": {
      "text/html": [
       "<div>\n",
       "<style scoped>\n",
       "    .dataframe tbody tr th:only-of-type {\n",
       "        vertical-align: middle;\n",
       "    }\n",
       "\n",
       "    .dataframe tbody tr th {\n",
       "        vertical-align: top;\n",
       "    }\n",
       "\n",
       "    .dataframe thead th {\n",
       "        text-align: right;\n",
       "    }\n",
       "</style>\n",
       "<table border=\"1\" class=\"dataframe\">\n",
       "  <thead>\n",
       "    <tr style=\"text-align: right;\">\n",
       "      <th></th>\n",
       "      <th>Date</th>\n",
       "      <th>Open</th>\n",
       "      <th>High</th>\n",
       "      <th>Low</th>\n",
       "      <th>Close</th>\n",
       "      <th>Adj Close</th>\n",
       "      <th>Volume</th>\n",
       "    </tr>\n",
       "  </thead>\n",
       "  <tbody>\n",
       "    <tr>\n",
       "      <th>0</th>\n",
       "      <td>2023-01-31</td>\n",
       "      <td>130.800003</td>\n",
       "      <td>137.850006</td>\n",
       "      <td>129.050003</td>\n",
       "      <td>136.649994</td>\n",
       "      <td>136.649994</td>\n",
       "      <td>959654</td>\n",
       "    </tr>\n",
       "    <tr>\n",
       "      <th>1</th>\n",
       "      <td>2023-02-01</td>\n",
       "      <td>137.350006</td>\n",
       "      <td>143.500000</td>\n",
       "      <td>130.050003</td>\n",
       "      <td>134.250000</td>\n",
       "      <td>134.250000</td>\n",
       "      <td>1686843</td>\n",
       "    </tr>\n",
       "    <tr>\n",
       "      <th>2</th>\n",
       "      <td>2023-02-02</td>\n",
       "      <td>134.000000</td>\n",
       "      <td>137.899994</td>\n",
       "      <td>132.750000</td>\n",
       "      <td>133.949997</td>\n",
       "      <td>133.949997</td>\n",
       "      <td>777034</td>\n",
       "    </tr>\n",
       "    <tr>\n",
       "      <th>3</th>\n",
       "      <td>2023-02-03</td>\n",
       "      <td>134.550003</td>\n",
       "      <td>136.149994</td>\n",
       "      <td>126.050003</td>\n",
       "      <td>132.149994</td>\n",
       "      <td>132.149994</td>\n",
       "      <td>1290369</td>\n",
       "    </tr>\n",
       "    <tr>\n",
       "      <th>4</th>\n",
       "      <td>2023-02-06</td>\n",
       "      <td>132.149994</td>\n",
       "      <td>134.800003</td>\n",
       "      <td>129.800003</td>\n",
       "      <td>132.100006</td>\n",
       "      <td>132.100006</td>\n",
       "      <td>483143</td>\n",
       "    </tr>\n",
       "  </tbody>\n",
       "</table>\n",
       "</div>"
      ],
      "text/plain": [
       "         Date        Open        High         Low       Close   Adj Close  \\\n",
       "0  2023-01-31  130.800003  137.850006  129.050003  136.649994  136.649994   \n",
       "1  2023-02-01  137.350006  143.500000  130.050003  134.250000  134.250000   \n",
       "2  2023-02-02  134.000000  137.899994  132.750000  133.949997  133.949997   \n",
       "3  2023-02-03  134.550003  136.149994  126.050003  132.149994  132.149994   \n",
       "4  2023-02-06  132.149994  134.800003  129.800003  132.100006  132.100006   \n",
       "\n",
       "    Volume  \n",
       "0   959654  \n",
       "1  1686843  \n",
       "2   777034  \n",
       "3  1290369  \n",
       "4   483143  "
      ]
     },
     "execution_count": 2,
     "metadata": {},
     "output_type": "execute_result"
    }
   ],
   "source": [
    "df=pd.read_csv('sf.csv')\n",
    "df.head()"
   ]
  },
  {
   "cell_type": "code",
   "execution_count": 3,
   "id": "14fd8c5d",
   "metadata": {},
   "outputs": [
    {
     "name": "stdout",
     "output_type": "stream",
     "text": [
      "0    2023-01-31\n",
      "Name: Date, dtype: object\n",
      "245    2024-01-30\n",
      "Name: Date, dtype: object\n"
     ]
    }
   ],
   "source": [
    "print(df.head(1)['Date'])\n",
    "print(df.tail(1)['Date'])"
   ]
  },
  {
   "cell_type": "code",
   "execution_count": 4,
   "id": "b1faf1d4",
   "metadata": {},
   "outputs": [
    {
     "data": {
      "text/plain": [
       "(246, 7)"
      ]
     },
     "execution_count": 4,
     "metadata": {},
     "output_type": "execute_result"
    }
   ],
   "source": [
    "df.shape"
   ]
  },
  {
   "cell_type": "code",
   "execution_count": 5,
   "id": "b9409154",
   "metadata": {},
   "outputs": [
    {
     "data": {
      "text/plain": [
       "'2024-01-30'"
      ]
     },
     "execution_count": 5,
     "metadata": {},
     "output_type": "execute_result"
    }
   ],
   "source": [
    "x=df['Date'].iloc[-1]\n",
    "x"
   ]
  },
  {
   "cell_type": "code",
   "execution_count": 6,
   "id": "9c510509",
   "metadata": {},
   "outputs": [],
   "source": [
    "#function to increase date by 1\n",
    "\n",
    "from datetime import datetime, timedelta\n",
    "\n",
    "def increase(date_string):\n",
    "    date_obj = datetime.strptime(date_string, \"%Y-%m-%d\")\n",
    "    new_date_obj = date_obj + timedelta(days=1)\n",
    "    formatted_date = datetime.strftime(new_date_obj, \"%Y-%m-%d\")\n",
    "\n",
    "    return formatted_date "
   ]
  },
  {
   "cell_type": "code",
   "execution_count": 7,
   "id": "67d2fb4d",
   "metadata": {},
   "outputs": [],
   "source": [
    "start_date=df['Date'][0]\n",
    "new_df=pd.DataFrame()\n",
    "end_date=x\n",
    "date_index = pd.date_range(start=start_date, end=end_date, freq='D')\n",
    "new_df['Date']=date_index\n",
    "df['Date'] = pd.to_datetime(df['Date'])\n",
    "merged_df = pd.merge(df,new_df, on='Date', how='right')\n",
    "merged_df=merged_df.interpolate(method='ffill',limit_direction='forward')"
   ]
  },
  {
   "cell_type": "code",
   "execution_count": 8,
   "id": "594c849f",
   "metadata": {},
   "outputs": [
    {
     "data": {
      "text/plain": [
       "Date         0\n",
       "Open         0\n",
       "High         0\n",
       "Low          0\n",
       "Close        0\n",
       "Adj Close    0\n",
       "Volume       0\n",
       "dtype: int64"
      ]
     },
     "execution_count": 8,
     "metadata": {},
     "output_type": "execute_result"
    }
   ],
   "source": [
    "merged_df.isna().sum()"
   ]
  },
  {
   "cell_type": "code",
   "execution_count": 9,
   "id": "86864d3e",
   "metadata": {},
   "outputs": [
    {
     "data": {
      "text/html": [
       "<div>\n",
       "<style scoped>\n",
       "    .dataframe tbody tr th:only-of-type {\n",
       "        vertical-align: middle;\n",
       "    }\n",
       "\n",
       "    .dataframe tbody tr th {\n",
       "        vertical-align: top;\n",
       "    }\n",
       "\n",
       "    .dataframe thead th {\n",
       "        text-align: right;\n",
       "    }\n",
       "</style>\n",
       "<table border=\"1\" class=\"dataframe\">\n",
       "  <thead>\n",
       "    <tr style=\"text-align: right;\">\n",
       "      <th></th>\n",
       "      <th>Date</th>\n",
       "      <th>Close</th>\n",
       "    </tr>\n",
       "  </thead>\n",
       "  <tbody>\n",
       "    <tr>\n",
       "      <th>0</th>\n",
       "      <td>2023-01-31</td>\n",
       "      <td>136.649994</td>\n",
       "    </tr>\n",
       "    <tr>\n",
       "      <th>1</th>\n",
       "      <td>2023-02-01</td>\n",
       "      <td>134.250000</td>\n",
       "    </tr>\n",
       "    <tr>\n",
       "      <th>2</th>\n",
       "      <td>2023-02-02</td>\n",
       "      <td>133.949997</td>\n",
       "    </tr>\n",
       "    <tr>\n",
       "      <th>3</th>\n",
       "      <td>2023-02-03</td>\n",
       "      <td>132.149994</td>\n",
       "    </tr>\n",
       "    <tr>\n",
       "      <th>4</th>\n",
       "      <td>2023-02-04</td>\n",
       "      <td>132.149994</td>\n",
       "    </tr>\n",
       "    <tr>\n",
       "      <th>...</th>\n",
       "      <td>...</td>\n",
       "      <td>...</td>\n",
       "    </tr>\n",
       "    <tr>\n",
       "      <th>360</th>\n",
       "      <td>2024-01-26</td>\n",
       "      <td>233.350006</td>\n",
       "    </tr>\n",
       "    <tr>\n",
       "      <th>361</th>\n",
       "      <td>2024-01-27</td>\n",
       "      <td>233.350006</td>\n",
       "    </tr>\n",
       "    <tr>\n",
       "      <th>362</th>\n",
       "      <td>2024-01-28</td>\n",
       "      <td>233.350006</td>\n",
       "    </tr>\n",
       "    <tr>\n",
       "      <th>363</th>\n",
       "      <td>2024-01-29</td>\n",
       "      <td>227.449997</td>\n",
       "    </tr>\n",
       "    <tr>\n",
       "      <th>364</th>\n",
       "      <td>2024-01-30</td>\n",
       "      <td>239.949997</td>\n",
       "    </tr>\n",
       "  </tbody>\n",
       "</table>\n",
       "<p>365 rows × 2 columns</p>\n",
       "</div>"
      ],
      "text/plain": [
       "          Date       Close\n",
       "0   2023-01-31  136.649994\n",
       "1   2023-02-01  134.250000\n",
       "2   2023-02-02  133.949997\n",
       "3   2023-02-03  132.149994\n",
       "4   2023-02-04  132.149994\n",
       "..         ...         ...\n",
       "360 2024-01-26  233.350006\n",
       "361 2024-01-27  233.350006\n",
       "362 2024-01-28  233.350006\n",
       "363 2024-01-29  227.449997\n",
       "364 2024-01-30  239.949997\n",
       "\n",
       "[365 rows x 2 columns]"
      ]
     },
     "execution_count": 9,
     "metadata": {},
     "output_type": "execute_result"
    }
   ],
   "source": [
    "data=pd.DataFrame()\n",
    "data['Date']=merged_df['Date']\n",
    "data['Close']=merged_df['Close']\n",
    "data"
   ]
  },
  {
   "cell_type": "code",
   "execution_count": 10,
   "id": "40a79936",
   "metadata": {},
   "outputs": [
    {
     "data": {
      "text/plain": [
       "[<matplotlib.lines.Line2D at 0x14e95e64370>]"
      ]
     },
     "execution_count": 10,
     "metadata": {},
     "output_type": "execute_result"
    },
    {
     "data": {
      "image/png": "[encoded data removed]",
      "text/plain": [
       "<Figure size 432x288 with 1 Axes>"
      ]
     },
     "metadata": {
      "needs_background": "light"
     },
     "output_type": "display_data"
    }
   ],
   "source": [
    "import matplotlib.pyplot as plt\n",
    "\n",
    "plt.plot(data['Close'])"
   ]
  },
  {
   "cell_type": "code",
   "execution_count": 11,
   "id": "360fa626",
   "metadata": {},
   "outputs": [
    {
     "name": "stdout",
     "output_type": "stream",
     "text": [
      "ADF Statistics = -1.163488\n",
      "p value = 0.689102\n",
      "Critical Values : \n",
      "\t 1% : -3.448494\n",
      "\t 5% : -2.869535\n",
      "\t 10% : -2.571029\n",
      "Data is NON STATIONARY\n"
     ]
    }
   ],
   "source": [
    "import statsmodels.api as sm\n",
    "from statsmodels.tsa.stattools import adfuller\n",
    "\n",
    "x=data['Close'].values\n",
    "result=adfuller(x)\n",
    "print('ADF Statistics = %f' %result[0])\n",
    "print('p value = %f' %result[1])\n",
    "print('Critical Values : ')\n",
    "for x,y in result[4].items():\n",
    "    print('\\t %s : %f' %(x,y))\n",
    "    \n",
    "    \n",
    "def test(index):\n",
    "    x=data[index].values\n",
    "    result=adfuller(x)\n",
    "    if(result[1] >0.05 and result[0]>result[4]['1%'] and result[0]>result[4]['5%'] and result[0]>result[4]['10%']):\n",
    "        print('Data is NON STATIONARY')\n",
    "    else:\n",
    "        print('Data is STATIONARY')\n",
    "\n",
    "test('Close')"
   ]
  },
  {
   "cell_type": "code",
   "execution_count": 12,
   "id": "9d5bdc9c",
   "metadata": {},
   "outputs": [],
   "source": [
    "data['Value']=data['Close'].diff()\n",
    "x=data['Value'].mean()\n",
    "data['Value']=data['Value'].fillna(x)"
   ]
  },
  {
   "cell_type": "code",
   "execution_count": 13,
   "id": "8f94f11a",
   "metadata": {},
   "outputs": [
    {
     "name": "stdout",
     "output_type": "stream",
     "text": [
      "Data is STATIONARY\n"
     ]
    }
   ],
   "source": [
    "test('Value')"
   ]
  },
  {
   "cell_type": "code",
   "execution_count": 14,
   "id": "80b038ef",
   "metadata": {},
   "outputs": [
    {
     "data": {
      "text/plain": [
       "[<matplotlib.lines.Line2D at 0x14ea88f6580>]"
      ]
     },
     "execution_count": 14,
     "metadata": {},
     "output_type": "execute_result"
    },
    {
     "data": {
      "image/png": "[encoded data removed]",
      "text/plain": [
       "<Figure size 432x288 with 1 Axes>"
      ]
     },
     "metadata": {
      "needs_background": "light"
     },
     "output_type": "display_data"
    }
   ],
   "source": [
    "plt.plot(data['Value'])"
   ]
  },
  {
   "cell_type": "code",
   "execution_count": 15,
   "id": "c08dc52f",
   "metadata": {},
   "outputs": [],
   "source": [
    "df=pd.DataFrame()\n",
    "\n",
    "df['Date']=data['Date']\n",
    "df['Original']=data['Close']\n",
    "df['Value']=data['Value']"
   ]
  },
  {
   "cell_type": "code",
   "execution_count": 16,
   "id": "19230e3d",
   "metadata": {},
   "outputs": [
    {
     "data": {
      "text/html": [
       "<div>\n",
       "<style scoped>\n",
       "    .dataframe tbody tr th:only-of-type {\n",
       "        vertical-align: middle;\n",
       "    }\n",
       "\n",
       "    .dataframe tbody tr th {\n",
       "        vertical-align: top;\n",
       "    }\n",
       "\n",
       "    .dataframe thead th {\n",
       "        text-align: right;\n",
       "    }\n",
       "</style>\n",
       "<table border=\"1\" class=\"dataframe\">\n",
       "  <thead>\n",
       "    <tr style=\"text-align: right;\">\n",
       "      <th></th>\n",
       "      <th>Date</th>\n",
       "      <th>Original</th>\n",
       "      <th>Value</th>\n",
       "    </tr>\n",
       "  </thead>\n",
       "  <tbody>\n",
       "    <tr>\n",
       "      <th>0</th>\n",
       "      <td>2023-01-31</td>\n",
       "      <td>136.649994</td>\n",
       "      <td>0.283791</td>\n",
       "    </tr>\n",
       "    <tr>\n",
       "      <th>1</th>\n",
       "      <td>2023-02-01</td>\n",
       "      <td>134.250000</td>\n",
       "      <td>-2.399994</td>\n",
       "    </tr>\n",
       "    <tr>\n",
       "      <th>2</th>\n",
       "      <td>2023-02-02</td>\n",
       "      <td>133.949997</td>\n",
       "      <td>-0.300003</td>\n",
       "    </tr>\n",
       "    <tr>\n",
       "      <th>3</th>\n",
       "      <td>2023-02-03</td>\n",
       "      <td>132.149994</td>\n",
       "      <td>-1.800003</td>\n",
       "    </tr>\n",
       "    <tr>\n",
       "      <th>4</th>\n",
       "      <td>2023-02-04</td>\n",
       "      <td>132.149994</td>\n",
       "      <td>0.000000</td>\n",
       "    </tr>\n",
       "    <tr>\n",
       "      <th>...</th>\n",
       "      <td>...</td>\n",
       "      <td>...</td>\n",
       "      <td>...</td>\n",
       "    </tr>\n",
       "    <tr>\n",
       "      <th>360</th>\n",
       "      <td>2024-01-26</td>\n",
       "      <td>233.350006</td>\n",
       "      <td>0.000000</td>\n",
       "    </tr>\n",
       "    <tr>\n",
       "      <th>361</th>\n",
       "      <td>2024-01-27</td>\n",
       "      <td>233.350006</td>\n",
       "      <td>0.000000</td>\n",
       "    </tr>\n",
       "    <tr>\n",
       "      <th>362</th>\n",
       "      <td>2024-01-28</td>\n",
       "      <td>233.350006</td>\n",
       "      <td>0.000000</td>\n",
       "    </tr>\n",
       "    <tr>\n",
       "      <th>363</th>\n",
       "      <td>2024-01-29</td>\n",
       "      <td>227.449997</td>\n",
       "      <td>-5.900009</td>\n",
       "    </tr>\n",
       "    <tr>\n",
       "      <th>364</th>\n",
       "      <td>2024-01-30</td>\n",
       "      <td>239.949997</td>\n",
       "      <td>12.500000</td>\n",
       "    </tr>\n",
       "  </tbody>\n",
       "</table>\n",
       "<p>365 rows × 3 columns</p>\n",
       "</div>"
      ],
      "text/plain": [
       "          Date    Original      Value\n",
       "0   2023-01-31  136.649994   0.283791\n",
       "1   2023-02-01  134.250000  -2.399994\n",
       "2   2023-02-02  133.949997  -0.300003\n",
       "3   2023-02-03  132.149994  -1.800003\n",
       "4   2023-02-04  132.149994   0.000000\n",
       "..         ...         ...        ...\n",
       "360 2024-01-26  233.350006   0.000000\n",
       "361 2024-01-27  233.350006   0.000000\n",
       "362 2024-01-28  233.350006   0.000000\n",
       "363 2024-01-29  227.449997  -5.900009\n",
       "364 2024-01-30  239.949997  12.500000\n",
       "\n",
       "[365 rows x 3 columns]"
      ]
     },
     "execution_count": 16,
     "metadata": {},
     "output_type": "execute_result"
    }
   ],
   "source": [
    "df"
   ]
  },
  {
   "cell_type": "code",
   "execution_count": 17,
   "id": "cfbeb588",
   "metadata": {},
   "outputs": [],
   "source": [
    "df1=pd.DataFrame()\n",
    "df2=pd.DataFrame()\n",
    "\n",
    "df1['Date']=df['Date']\n",
    "df1['Original']=df['Original']\n",
    "df1['Value']=df['Value']\n",
    "\n",
    "df2['Date']=df['Date']\n",
    "df2['Original']=df['Original']\n",
    "df2['Value']=df['Value']"
   ]
  },
  {
   "cell_type": "code",
   "execution_count": 18,
   "id": "8b103524",
   "metadata": {},
   "outputs": [
    {
     "data": {
      "image/png": "[encoded data removed]",
      "text/plain": [
       "<Figure size 432x288 with 1 Axes>"
      ]
     },
     "metadata": {
      "needs_background": "light"
     },
     "output_type": "display_data"
    },
    {
     "data": {
      "image/png": "[encoded data removed]",
      "text/plain": [
       "<Figure size 432x288 with 1 Axes>"
      ]
     },
     "metadata": {
      "needs_background": "light"
     },
     "output_type": "display_data"
    }
   ],
   "source": [
    "plt.plot(df1['Value'])\n",
    "plt.show()\n",
    "plt.plot(df2['Value'])\n",
    "plt.show()"
   ]
  },
  {
   "cell_type": "code",
   "execution_count": 19,
   "id": "32dbe6e8",
   "metadata": {},
   "outputs": [],
   "source": [
    "# LSTM"
   ]
  },
  {
   "cell_type": "code",
   "execution_count": 20,
   "id": "48c89d92",
   "metadata": {},
   "outputs": [],
   "source": [
    "import statsmodels.api as sm\n",
    "from sklearn.preprocessing import MinMaxScaler\n",
    "from numpy import array\n",
    "from keras.models import Sequential\n",
    "from keras.layers import Dense,Flatten\n",
    "from tensorflow.python.keras.layers import LSTM\n",
    "import numpy as np\n",
    "from sklearn.metrics import mean_squared_error\n",
    "from sklearn.metrics import r2_score\n",
    "from datetime import datetime, timedelta"
   ]
  },
  {
   "cell_type": "code",
   "execution_count": 21,
   "id": "dc711a6b",
   "metadata": {},
   "outputs": [
    {
     "name": "stdout",
     "output_type": "stream",
     "text": [
      "2/2 [==============================] - 1s 4ms/step\n",
      "MAD: 3.5425477\n",
      "RMSE : 0.3536000209451938\n",
      "MAPE: inf\n",
      "MSE: 0.12503297481244152\n",
      "0.9961488530333306\n"
     ]
    },
    {
     "name": "stderr",
     "output_type": "stream",
     "text": [
      "<ipython-input-21-60bb7c2850a8>:54: RuntimeWarning: divide by zero encountered in true_divide\n",
      "  return np.mean(np.abs((y_actual-y_predicted)/y_actual))*100\n"
     ]
    }
   ],
   "source": [
    "scaler = MinMaxScaler()\n",
    "#df1['Value']=scaler.fit_transform(df1[['Value']])\n",
    "\n",
    "def split_sequence(sequence,steps):\n",
    "    x,y=list(),list()\n",
    "    for start in range(len(sequence)):\n",
    "        end_index=start+steps\n",
    "        if end_index > len(sequence)-1:\n",
    "            break;\n",
    "        sequence_x,sequence_y=sequence[start:end_index],sequence[end_index]\n",
    "        x.append(sequence_x)\n",
    "        y.append(sequence_y)\n",
    "    return array(x),array(y)\n",
    "\n",
    "d=df1['Value'].tolist()\n",
    "\n",
    "steps=6 \n",
    "x,y=split_sequence(d,steps)\n",
    "\n",
    "features=1\n",
    "x=x.reshape((x.shape[0],x.shape[1],features))\n",
    "\n",
    "#Build LSTM model\n",
    "model_lstm=Sequential()\n",
    "#Add first layer to model\n",
    "model_lstm.add(LSTM(50, return_sequences=True, input_shape=(x.shape[1],1)))\n",
    "#Add second layer to model\n",
    "model_lstm.add(LSTM(50, return_sequences=False))\n",
    "#Add Dense Layer to model with 25 neurons\n",
    "model_lstm.add(Dense(25))\n",
    "#Add Dense Layer to model with 1 neuron\n",
    "model_lstm.add(Dense(1))\n",
    "\n",
    "model_lstm.compile(loss='mean_squared_error',optimizer='adam')\n",
    "\n",
    "model_lstm.fit(x,y,epochs=500,verbose=0)\n",
    "\n",
    "test_data_x= x[-50:]\n",
    "test_data_y= y[-50:]\n",
    "\n",
    "test_data_pred=model_lstm.predict(test_data_x)\n",
    "\n",
    "mean = np.mean(test_data_pred)\n",
    "abs_deviations = np.abs(test_data_pred-mean)\n",
    "mad = np.mean(abs_deviations)\n",
    "print(\"MAD:\", mad)\n",
    "\n",
    "mse = mean_squared_error(test_data_y,test_data_pred)\n",
    "rmse = np.sqrt(mse)\n",
    "print(\"RMSE :\",rmse)\n",
    "\n",
    "\n",
    "def mean_absolute_percentage_error(y_actual, y_predicted):\n",
    "    return np.mean(np.abs((y_actual-y_predicted)/y_actual))*100\n",
    "\n",
    "mape = mean_absolute_percentage_error(np.array(test_data_y), np.array(test_data_pred))\n",
    "print(\"MAPE:\", mape)\n",
    "\n",
    "\n",
    "def mean_bias_error(y_actual, y_predicted):\n",
    "    return mean_squared_error(y_actual,y_predicted)\n",
    "\n",
    "mbe = mean_bias_error(np.array(test_data_y), np.array(test_data_pred))\n",
    "print(\"MSE:\", mbe)\n",
    "\n",
    "print(r2_score(test_data_y,test_data_pred))"
   ]
  },
  {
   "cell_type": "code",
   "execution_count": 22,
   "id": "05f6ac03",
   "metadata": {},
   "outputs": [
    {
     "data": {
      "image/png": "[encoded data removed]",
      "text/plain": [
       "<Figure size 432x288 with 1 Axes>"
      ]
     },
     "metadata": {
      "needs_background": "light"
     },
     "output_type": "display_data"
    }
   ],
   "source": [
    "plt.plot(df.tail(50).index, test_data_y, color='blue')\n",
    "plt.plot(df.tail(50).index, test_data_pred, color='red')\n",
    "plt.show()"
   ]
  },
  {
   "cell_type": "code",
   "execution_count": 23,
   "id": "f8d2dc16",
   "metadata": {},
   "outputs": [
    {
     "name": "stdout",
     "output_type": "stream",
     "text": [
      "1/1 [==============================] - 0s 22ms/step\n",
      "1/1 [==============================] - 0s 18ms/step\n",
      "1/1 [==============================] - 0s 19ms/step\n",
      "1/1 [==============================] - 0s 27ms/step\n",
      "1/1 [==============================] - 0s 20ms/step\n",
      "1/1 [==============================] - 0s 25ms/step\n",
      "1/1 [==============================] - 0s 18ms/step\n",
      "1/1 [==============================] - 0s 17ms/step\n",
      "1/1 [==============================] - 0s 17ms/step\n",
      "1/1 [==============================] - 0s 17ms/step\n"
     ]
    },
    {
     "data": {
      "text/plain": [
       "[<matplotlib.lines.Line2D at 0x14eb97ca5b0>]"
      ]
     },
     "execution_count": 23,
     "metadata": {},
     "output_type": "execute_result"
    },
    {
     "data": {
      "image/png": "[encoded data removed]",
      "text/plain": [
       "<Figure size 432x288 with 1 Axes>"
      ]
     },
     "metadata": {
      "needs_background": "light"
     },
     "output_type": "display_data"
    }
   ],
   "source": [
    "def increase(date_string):\n",
    "    date_obj = datetime.strptime(date_string, \"%Y-%m-%d\")\n",
    "    new_date_obj = date_obj + timedelta(days=1)\n",
    "    formatted_date = datetime.strftime(new_date_obj, \"%Y-%m-%d\")\n",
    "    return formatted_date \n",
    "\n",
    "data=df1['Value'].tolist()\n",
    "forecasted_df=pd.DataFrame(columns=['Date','Value'])\n",
    "start_date='2024-02-01'\n",
    "\n",
    "\n",
    "for i in range(10):\n",
    "    new_date=increase(start_date)\n",
    "    forecast_input=array(data[-6:])\n",
    "    x_forecast=forecast_input.reshape(1,steps,features)\n",
    "    forecasted_y=model_lstm.predict(x_forecast).item()\n",
    "    forecasted_df.at[i,'Date']=new_date\n",
    "    forecasted_df.at[i,'Value']=forecasted_y\n",
    "    data.append(forecasted_y)\n",
    "    start_date=new_date\n",
    "    \n",
    "index_old=np.arange(1,51)\n",
    "index_new=np.arange(51,61)\n",
    "\n",
    "plt.plot(index_old, test_data_y, color='red')\n",
    "plt.plot(index_new,forecasted_df['Value'], color='green')"
   ]
  },
  {
   "cell_type": "code",
   "execution_count": 24,
   "id": "e95862d6",
   "metadata": {},
   "outputs": [
    {
     "data": {
      "text/plain": [
       "0   -3.625479\n",
       "1    6.843431\n",
       "2   -3.308863\n",
       "3   -7.380751\n",
       "4   -3.508637\n",
       "5    1.839751\n",
       "6    1.323176\n",
       "7   -8.860006\n",
       "8   -1.186578\n",
       "9   -4.546895\n",
       "Name: Value, dtype: object"
      ]
     },
     "execution_count": 24,
     "metadata": {},
     "output_type": "execute_result"
    }
   ],
   "source": [
    "forecasted_df['Value']"
   ]
  },
  {
   "cell_type": "code",
   "execution_count": 25,
   "id": "339059e1",
   "metadata": {},
   "outputs": [],
   "source": [
    "forcasted_dif=forecasted_df['Value']"
   ]
  },
  {
   "cell_type": "code",
   "execution_count": 26,
   "id": "8e28feb8",
   "metadata": {},
   "outputs": [
    {
     "data": {
      "text/plain": [
       "0   -3.625479\n",
       "1    6.843431\n",
       "2   -3.308863\n",
       "3   -7.380751\n",
       "4   -3.508637\n",
       "5    1.839751\n",
       "6    1.323176\n",
       "7   -8.860006\n",
       "8   -1.186578\n",
       "9   -4.546895\n",
       "Name: Value, dtype: object"
      ]
     },
     "execution_count": 26,
     "metadata": {},
     "output_type": "execute_result"
    }
   ],
   "source": [
    "forcasted_dif"
   ]
  },
  {
   "cell_type": "code",
   "execution_count": 27,
   "id": "30372665",
   "metadata": {},
   "outputs": [],
   "source": [
    "dif_list=np.array(forcasted_dif).flatten().tolist()"
   ]
  },
  {
   "cell_type": "code",
   "execution_count": 28,
   "id": "e66da2bc",
   "metadata": {},
   "outputs": [
    {
     "data": {
      "text/plain": [
       "[-3.625479221343994,\n",
       " 6.84343147277832,\n",
       " -3.308863401412964,\n",
       " -7.380751132965088,\n",
       " -3.5086374282836914,\n",
       " 1.839751124382019,\n",
       " 1.3231755495071411,\n",
       " -8.860006332397461,\n",
       " -1.1865780353546143,\n",
       " -4.546894550323486]"
      ]
     },
     "execution_count": 28,
     "metadata": {},
     "output_type": "execute_result"
    }
   ],
   "source": [
    "dif_list"
   ]
  },
  {
   "cell_type": "code",
   "execution_count": 29,
   "id": "302fa81c",
   "metadata": {},
   "outputs": [
    {
     "data": {
      "text/plain": [
       "[<matplotlib.lines.Line2D at 0x14eb982ab80>]"
      ]
     },
     "execution_count": 29,
     "metadata": {},
     "output_type": "execute_result"
    },
    {
     "data": {
      "image/png": "[encoded data removed]",
      "text/plain": [
       "<Figure size 432x288 with 1 Axes>"
      ]
     },
     "metadata": {
      "needs_background": "light"
     },
     "output_type": "display_data"
    }
   ],
   "source": [
    "last_value=df1.tail(1)['Original'].iloc[0]\n",
    "\n",
    "forecasted_og=[]\n",
    "\n",
    "for i in range(len(dif_list)):\n",
    "    n=last_value+dif_list[i]\n",
    "    forecasted_og.append(n)\n",
    "    last_value=n\n",
    "    \n",
    "forecasted_df['Retrive']=forecasted_og\n",
    "\n",
    "index_old=np.arange(1,51)\n",
    "index_new=np.arange(51,61)\n",
    "\n",
    "last_300 = df['Original'][-50:].tolist()\n",
    "\n",
    "plt.plot(index_old, last_300, color='red')\n",
    "plt.plot(index_new,forecasted_df['Retrive'], color='green')"
   ]
  },
  {
   "cell_type": "code",
   "execution_count": null,
   "id": "b7e7387e",
   "metadata": {},
   "outputs": [],
   "source": []
  },
  {
   "cell_type": "code",
   "execution_count": 30,
   "id": "413c3157",
   "metadata": {},
   "outputs": [
    {
     "data": {
      "text/plain": [
       "217.53914504458618"
      ]
     },
     "execution_count": 30,
     "metadata": {},
     "output_type": "execute_result"
    }
   ],
   "source": [
    "last_value"
   ]
  },
  {
   "cell_type": "code",
   "execution_count": 31,
   "id": "a0e81d0f",
   "metadata": {},
   "outputs": [
    {
     "data": {
      "text/plain": [
       "0    236.324518\n",
       "1    243.167949\n",
       "2    239.859086\n",
       "3    232.478335\n",
       "4    228.969697\n",
       "5    230.809448\n",
       "6    232.132624\n",
       "7    223.272618\n",
       "8    222.086040\n",
       "9    217.539145\n",
       "Name: Retrive, dtype: float64"
      ]
     },
     "execution_count": 31,
     "metadata": {},
     "output_type": "execute_result"
    }
   ],
   "source": [
    "forecasted_df['Retrive']"
   ]
  },
  {
   "cell_type": "code",
   "execution_count": 32,
   "id": "b0f5d5a6",
   "metadata": {},
   "outputs": [],
   "source": [
    "lstm_list=forecasted_df['Retrive']"
   ]
  },
  {
   "cell_type": "code",
   "execution_count": 33,
   "id": "c840fcb9",
   "metadata": {},
   "outputs": [],
   "source": [
    "#random forest regression"
   ]
  },
  {
   "cell_type": "code",
   "execution_count": 34,
   "id": "f3da0fad",
   "metadata": {},
   "outputs": [],
   "source": [
    "from sklearn.ensemble import RandomForestRegressor\n",
    "from sklearn.model_selection import RandomizedSearchCV"
   ]
  },
  {
   "cell_type": "code",
   "execution_count": 35,
   "id": "e0814b32",
   "metadata": {},
   "outputs": [
    {
     "name": "stdout",
     "output_type": "stream",
     "text": [
      "700\n",
      "MAD: 0.049353437438322795\n",
      "RMSE : 0.04270755983946898\n",
      "MAPE: 5.697667790255708\n",
      "MSE: 0.0018239356674418237\n",
      "0.8659385166313118\n"
     ]
    }
   ],
   "source": [
    "scaler = MinMaxScaler()\n",
    "df2['Value']=scaler.fit_transform(df2[['Value']])\n",
    "\n",
    "def split_sequence(sequence,steps):\n",
    "    x,y=list(),list()\n",
    "    for start in range(len(sequence)):\n",
    "        end_index=start+steps\n",
    "        if end_index > len(sequence)-1:\n",
    "            break;\n",
    "        sequence_x,sequence_y=sequence[start:end_index],sequence[end_index]\n",
    "        x.append(sequence_x)\n",
    "        y.append(sequence_y)\n",
    "    return array(x),array(y)\n",
    "\n",
    "d=df2['Value'].tolist()\n",
    "\n",
    "steps=6 \n",
    "\n",
    "n=100\n",
    "ans=0\n",
    "max_acc=0\n",
    "\n",
    "while(n<=2000):\n",
    "    x,y=split_sequence(d,steps)\n",
    "    model=RandomForestRegressor(n_estimators=n, random_state = 42)\n",
    "    model.fit(x,y)\n",
    "    test_data_x= x[-50:]\n",
    "    test_data_y= y[-50:]\n",
    "    test_data_pred=model.predict(test_data_x)\n",
    "    acc=r2_score(test_data_y,test_data_pred)\n",
    "    if(acc>max_acc):\n",
    "        max_acc=acc\n",
    "        ans=n\n",
    "    n=n+100\n",
    "    \n",
    "print(ans)\n",
    "\n",
    "model=RandomForestRegressor(n_estimators =ans, random_state = 42)\n",
    "model.fit(x,y)\n",
    "\n",
    "test_data_x= x[-50:]\n",
    "test_data_y= y[-50:]\n",
    "\n",
    "test_data_pred=model.predict(test_data_x)\n",
    "\n",
    "mean = np.mean(test_data_pred)\n",
    "abs_deviations = np.abs(test_data_pred-mean)\n",
    "mad = np.mean(abs_deviations)\n",
    "print(\"MAD:\", mad)\n",
    "\n",
    "mse = mean_squared_error(test_data_y,test_data_pred)\n",
    "rmse = np.sqrt(mse)\n",
    "print(\"RMSE :\",rmse)\n",
    "\n",
    "\n",
    "def mean_absolute_percentage_error(y_actual, y_predicted):\n",
    "    return np.mean(np.abs((y_actual-y_predicted)/y_actual))*100\n",
    "\n",
    "mape = mean_absolute_percentage_error(np.array(test_data_y), np.array(test_data_pred))\n",
    "print(\"MAPE:\", mape)\n",
    "\n",
    "\n",
    "def mean_bias_error(y_actual, y_predicted):\n",
    "    return mean_squared_error(y_actual,y_predicted)\n",
    "\n",
    "mbe = mean_bias_error(np.array(test_data_y), np.array(test_data_pred))\n",
    "print(\"MSE:\", mbe)\n",
    "\n",
    "print(r2_score(test_data_y,test_data_pred))"
   ]
  },
  {
   "cell_type": "code",
   "execution_count": 36,
   "id": "fb91fba8",
   "metadata": {},
   "outputs": [
    {
     "data": {
      "image/png": "[encoded data removed]",
      "text/plain": [
       "<Figure size 432x288 with 1 Axes>"
      ]
     },
     "metadata": {
      "needs_background": "light"
     },
     "output_type": "display_data"
    }
   ],
   "source": [
    "plt.plot(df.tail(50).index, test_data_y, color='blue')\n",
    "plt.plot(df.tail(50).index, test_data_pred, color='red')\n",
    "plt.show()"
   ]
  },
  {
   "cell_type": "code",
   "execution_count": 37,
   "id": "59d37140",
   "metadata": {},
   "outputs": [
    {
     "data": {
      "text/plain": [
       "[<matplotlib.lines.Line2D at 0x14eb5745550>]"
      ]
     },
     "execution_count": 37,
     "metadata": {},
     "output_type": "execute_result"
    },
    {
     "data": {
      "image/png": "[encoded data removed]",
      "text/plain": [
       "<Figure size 432x288 with 1 Axes>"
      ]
     },
     "metadata": {
      "needs_background": "light"
     },
     "output_type": "display_data"
    }
   ],
   "source": [
    "def increase(date_string):\n",
    "    date_obj = datetime.strptime(date_string, \"%Y-%m-%d\")\n",
    "    new_date_obj = date_obj + timedelta(days=1)\n",
    "    formatted_date = datetime.strftime(new_date_obj, \"%Y-%m-%d\")\n",
    "    return formatted_date \n",
    "\n",
    "data=df2['Value'].tolist()\n",
    "forecasted_df=pd.DataFrame(columns=['Date','Value'])\n",
    "start_date='2024-02-01'\n",
    "\n",
    "for i in range(10):\n",
    "    new_date=increase(start_date)\n",
    "    forecast_input=array(data[-6:])\n",
    "    #x_forecast=forecast_input.reshape(1,steps,features) #lstm\n",
    "    x_forecast=forecast_input.reshape(1,-1)\n",
    "    forecasted_y=model.predict(x_forecast).item()\n",
    "    forecasted_df.at[i,'Date']=new_date\n",
    "    forecasted_df.at[i,'Value']=forecasted_y\n",
    "    data.append(forecasted_y)\n",
    "    start_date=new_date\n",
    "    \n",
    "index_old=np.arange(1,51)\n",
    "index_new=np.arange(51,61)\n",
    "\n",
    "plt.plot(index_old, test_data_y, color='red')\n",
    "plt.plot(index_new,forecasted_df['Value'], color='green')"
   ]
  },
  {
   "cell_type": "code",
   "execution_count": 38,
   "id": "8106a943",
   "metadata": {},
   "outputs": [],
   "source": [
    "#forcasted_dif=forecasted_df['Value']\n",
    "forcasted_dif=scaler.inverse_transform(np.array(forecasted_df['Value']).reshape(-1,1))"
   ]
  },
  {
   "cell_type": "code",
   "execution_count": 39,
   "id": "a4563e16",
   "metadata": {},
   "outputs": [
    {
     "data": {
      "text/plain": [
       "0    0.535249\n",
       "1    0.565328\n",
       "2    0.584489\n",
       "3    0.566095\n",
       "4    0.483367\n",
       "5    0.579034\n",
       "6    0.573911\n",
       "7    0.593243\n",
       "8    0.589349\n",
       "9    0.583328\n",
       "Name: Value, dtype: object"
      ]
     },
     "execution_count": 39,
     "metadata": {},
     "output_type": "execute_result"
    }
   ],
   "source": [
    "forecasted_df['Value']"
   ]
  },
  {
   "cell_type": "code",
   "execution_count": 40,
   "id": "a0503b3c",
   "metadata": {},
   "outputs": [],
   "source": [
    "dif_list=np.array(forcasted_dif).flatten().tolist()"
   ]
  },
  {
   "cell_type": "code",
   "execution_count": 41,
   "id": "5dda0c62",
   "metadata": {},
   "outputs": [
    {
     "data": {
      "text/plain": [
       "[-1.303069148571383,\n",
       " 0.16628536285717357,\n",
       " 1.1022865585714094,\n",
       " 0.20371435857143216,\n",
       " -3.8375004071428456,\n",
       " 0.8357863828571974,\n",
       " 0.5855708200000872,\n",
       " 1.5299292528572475,\n",
       " 1.339715790000024,\n",
       " 1.0455719985713574]"
      ]
     },
     "execution_count": 41,
     "metadata": {},
     "output_type": "execute_result"
    }
   ],
   "source": [
    "dif_list"
   ]
  },
  {
   "cell_type": "code",
   "execution_count": 42,
   "id": "ff801904",
   "metadata": {},
   "outputs": [
    {
     "data": {
      "text/plain": [
       "[<matplotlib.lines.Line2D at 0x14ebbd0b250>]"
      ]
     },
     "execution_count": 42,
     "metadata": {},
     "output_type": "execute_result"
    },
    {
     "data": {
      "image/png": "[encoded data removed]",
      "text/plain": [
       "<Figure size 432x288 with 1 Axes>"
      ]
     },
     "metadata": {
      "needs_background": "light"
     },
     "output_type": "display_data"
    }
   ],
   "source": [
    "last_value=df.tail(1)['Original'].iloc[0]\n",
    "\n",
    "forecasted_og=[]\n",
    "\n",
    "for i in range(len(dif_list)):\n",
    "    n=last_value+dif_list[i]\n",
    "    forecasted_og.append(n)\n",
    "    last_value=n\n",
    "    \n",
    "forecasted_df['Retrive']=forecasted_og\n",
    "\n",
    "index_old=np.arange(1,51)\n",
    "index_new=np.arange(51,61)\n",
    "\n",
    "last_300 = df['Original'][-50:].tolist()\n",
    "\n",
    "plt.plot(index_old, last_300, color='red')\n",
    "plt.plot(index_new,forecasted_df['Retrive'], color='green')"
   ]
  },
  {
   "cell_type": "code",
   "execution_count": 43,
   "id": "51f73cae",
   "metadata": {},
   "outputs": [
    {
     "data": {
      "text/plain": [
       "241.6182879685717"
      ]
     },
     "execution_count": 43,
     "metadata": {},
     "output_type": "execute_result"
    }
   ],
   "source": [
    "last_value"
   ]
  },
  {
   "cell_type": "code",
   "execution_count": 44,
   "id": "8e6bc9d2",
   "metadata": {},
   "outputs": [
    {
     "data": {
      "text/plain": [
       "0    238.646928\n",
       "1    238.813213\n",
       "2    239.915500\n",
       "3    240.119214\n",
       "4    236.281714\n",
       "5    237.117500\n",
       "6    237.703071\n",
       "7    239.233000\n",
       "8    240.572716\n",
       "9    241.618288\n",
       "Name: Retrive, dtype: float64"
      ]
     },
     "execution_count": 44,
     "metadata": {},
     "output_type": "execute_result"
    }
   ],
   "source": [
    "forecasted_df['Retrive']"
   ]
  },
  {
   "cell_type": "code",
   "execution_count": 45,
   "id": "08115544",
   "metadata": {},
   "outputs": [],
   "source": [
    "rfr_list=forecasted_df['Retrive']"
   ]
  },
  {
   "cell_type": "code",
   "execution_count": 46,
   "id": "9c7ff011",
   "metadata": {},
   "outputs": [
    {
     "data": {
      "text/plain": [
       "0    238.646928\n",
       "1    238.813213\n",
       "2    239.915500\n",
       "3    240.119214\n",
       "4    236.281714\n",
       "5    237.117500\n",
       "6    237.703071\n",
       "7    239.233000\n",
       "8    240.572716\n",
       "9    241.618288\n",
       "Name: Retrive, dtype: float64"
      ]
     },
     "execution_count": 46,
     "metadata": {},
     "output_type": "execute_result"
    }
   ],
   "source": [
    "rfr_list"
   ]
  },
  {
   "cell_type": "code",
   "execution_count": 48,
   "id": "72965199",
   "metadata": {},
   "outputs": [
    {
     "data": {
      "text/plain": [
       "[237.25348180776504,\n",
       " 241.4260548365749,\n",
       " 239.8816514191557,\n",
       " 235.53468648280523,\n",
       " 231.89450386297787,\n",
       " 233.33266909074996,\n",
       " 234.3608027484543,\n",
       " 229.6567706501587,\n",
       " 229.48071014494596,\n",
       " 227.17080221418038]"
      ]
     },
     "execution_count": 48,
     "metadata": {},
     "output_type": "execute_result"
    }
   ],
   "source": [
    "result=[]\n",
    "\n",
    "for i in range(len(rfr_list)):\n",
    "    result.append(lstm_list[i]*0.6 + rfr_list[i]*0.4)\n",
    "    \n",
    "result"
   ]
  },
  {
   "cell_type": "code",
   "execution_count": 49,
   "id": "268ba85a",
   "metadata": {},
   "outputs": [
    {
     "data": {
      "text/plain": [
       "[<matplotlib.lines.Line2D at 0x14ebcd5aeb0>]"
      ]
     },
     "execution_count": 49,
     "metadata": {},
     "output_type": "execute_result"
    },
    {
     "data": {
      "image/png": "[encoded data removed]",
      "text/plain": [
       "<Figure size 432x288 with 1 Axes>"
      ]
     },
     "metadata": {
      "needs_background": "light"
     },
     "output_type": "display_data"
    }
   ],
   "source": [
    "index_old=np.arange(1,51)\n",
    "index_new=np.arange(51,61)\n",
    "\n",
    "last_300 = df['Original'][-50:].tolist()\n",
    "\n",
    "plt.plot(index_old, last_300, color='red')\n",
    "plt.plot(index_new,result, color='green')"
   ]
  },
  {
   "cell_type": "code",
   "execution_count": null,
   "id": "e8bc9da3",
   "metadata": {},
   "outputs": [],
   "source": []
  }
 ],
 "metadata": {
  "kernelspec": {
   "display_name": "Python 3",
   "language": "python",
   "name": "python3"
  },
  "language_info": {
   "codemirror_mode": {
    "name": "ipython",
    "version": 3
   },
   "file_extension": ".py",
   "mimetype": "text/x-python",
   "name": "python",
   "nbconvert_exporter": "python",
   "pygments_lexer": "ipython3",
   "version": "3.8.3"
  }
 },
 "nbformat": 4,
 "nbformat_minor": 5
}
