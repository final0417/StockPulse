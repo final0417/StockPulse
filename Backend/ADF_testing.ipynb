{
 "cells": [
  {
   "cell_type": "markdown",
   "id": "9f98fd0b",
   "metadata": {},
   "source": [
    "# Stationarity (ADF) Testing \n",
    "\n",
    "firstly dekhe ne `statsmodels` install ache kina na thakle `pip install statsmodels` lekh anaconda prompt e"
   ]
  },
  {
   "cell_type": "markdown",
   "id": "48970a5a",
   "metadata": {},
   "source": [
    "##### - The Augmented Dickey Fuller Test (ADF) holo unit root test for stationarity. \n",
    "##### - eta check kore tomar time series is stationary kina."
   ]
  },
  {
   "cell_type": "markdown",
   "id": "274fbe26",
   "metadata": {},
   "source": [
    "##### - `stationary time` series holo emon time series jar statistical properties jemon \n",
    "#####  mean, variance, autocorrelation gulo somoy er sathe constant. \n",
    "##### - eigulo ekmatro series ta stationary future behavior er descriptors hobe ."
   ]
  },
  {
   "cell_type": "code",
   "execution_count": 4,
   "id": "fa3d02f6",
   "metadata": {},
   "outputs": [
    {
     "name": "stderr",
     "output_type": "stream",
     "text": [
      "C:\\Users\\tridi\\anaconda3\\lib\\site-packages\\pandas\\core\\computation\\expressions.py:20: UserWarning: Pandas requires version '2.7.3' or newer of 'numexpr' (version '2.7.1' currently installed).\n",
      "  from pandas.core.computation.check import NUMEXPR_INSTALLED\n"
     ]
    }
   ],
   "source": [
    "import numpy as np\n",
    "import pandas as pd\n",
    "\n",
    "#faltu ka warnings jate na dey\n",
    "from warnings import filterwarnings \n",
    "filterwarnings('ignore')"
   ]
  },
  {
   "cell_type": "code",
   "execution_count": 5,
   "id": "57251f99",
   "metadata": {},
   "outputs": [
    {
     "data": {
      "text/html": [
       "<div>\n",
       "<style scoped>\n",
       "    .dataframe tbody tr th:only-of-type {\n",
       "        vertical-align: middle;\n",
       "    }\n",
       "\n",
       "    .dataframe tbody tr th {\n",
       "        vertical-align: top;\n",
       "    }\n",
       "\n",
       "    .dataframe thead th {\n",
       "        text-align: right;\n",
       "    }\n",
       "</style>\n",
       "<table border=\"1\" class=\"dataframe\">\n",
       "  <thead>\n",
       "    <tr style=\"text-align: right;\">\n",
       "      <th></th>\n",
       "      <th>Date</th>\n",
       "      <th>BINDALAGRO_Close</th>\n",
       "      <th>DATAMATICS_Close</th>\n",
       "      <th>GICHSGFIN_Close</th>\n",
       "      <th>JTEKTINDIA_Close</th>\n",
       "      <th>OLECTRA_Close</th>\n",
       "      <th>SUNFLAG_Close</th>\n",
       "      <th>SUVEN_Close</th>\n",
       "      <th>VENKEYS_Close</th>\n",
       "      <th>Average_Close</th>\n",
       "    </tr>\n",
       "  </thead>\n",
       "  <tbody>\n",
       "    <tr>\n",
       "      <th>474</th>\n",
       "      <td>20141203</td>\n",
       "      <td>32.549999</td>\n",
       "      <td>75.699997</td>\n",
       "      <td>187.250000</td>\n",
       "      <td>59.450001</td>\n",
       "      <td>13.200000</td>\n",
       "      <td>28.600000</td>\n",
       "      <td>220.100006</td>\n",
       "      <td>291.433319</td>\n",
       "      <td>113.535415</td>\n",
       "    </tr>\n",
       "    <tr>\n",
       "      <th>789</th>\n",
       "      <td>20160311</td>\n",
       "      <td>31.750000</td>\n",
       "      <td>50.200001</td>\n",
       "      <td>216.699997</td>\n",
       "      <td>42.900002</td>\n",
       "      <td>17.450001</td>\n",
       "      <td>21.400000</td>\n",
       "      <td>201.350006</td>\n",
       "      <td>302.750000</td>\n",
       "      <td>110.562501</td>\n",
       "    </tr>\n",
       "    <tr>\n",
       "      <th>133</th>\n",
       "      <td>20130711</td>\n",
       "      <td>17.299999</td>\n",
       "      <td>24.000000</td>\n",
       "      <td>114.849998</td>\n",
       "      <td>10.800000</td>\n",
       "      <td>11.250000</td>\n",
       "      <td>18.450001</td>\n",
       "      <td>25.549999</td>\n",
       "      <td>308.533325</td>\n",
       "      <td>66.341665</td>\n",
       "    </tr>\n",
       "    <tr>\n",
       "      <th>2266</th>\n",
       "      <td>20220307</td>\n",
       "      <td>21.799999</td>\n",
       "      <td>247.100006</td>\n",
       "      <td>129.550003</td>\n",
       "      <td>72.000000</td>\n",
       "      <td>583.400024</td>\n",
       "      <td>66.349998</td>\n",
       "      <td>72.650002</td>\n",
       "      <td>1957.250000</td>\n",
       "      <td>393.762504</td>\n",
       "    </tr>\n",
       "    <tr>\n",
       "      <th>269</th>\n",
       "      <td>20140129</td>\n",
       "      <td>24.000000</td>\n",
       "      <td>51.200001</td>\n",
       "      <td>101.099998</td>\n",
       "      <td>17.549999</td>\n",
       "      <td>9.400000</td>\n",
       "      <td>16.100000</td>\n",
       "      <td>73.699997</td>\n",
       "      <td>310.566681</td>\n",
       "      <td>75.452085</td>\n",
       "    </tr>\n",
       "    <tr>\n",
       "      <th>1912</th>\n",
       "      <td>20201001</td>\n",
       "      <td>12.300000</td>\n",
       "      <td>76.849998</td>\n",
       "      <td>94.900002</td>\n",
       "      <td>75.900002</td>\n",
       "      <td>63.349998</td>\n",
       "      <td>42.450001</td>\n",
       "      <td>50.650002</td>\n",
       "      <td>1456.400024</td>\n",
       "      <td>234.100003</td>\n",
       "    </tr>\n",
       "    <tr>\n",
       "      <th>1345</th>\n",
       "      <td>20180612</td>\n",
       "      <td>24.500000</td>\n",
       "      <td>109.000000</td>\n",
       "      <td>388.350006</td>\n",
       "      <td>103.199997</td>\n",
       "      <td>176.550003</td>\n",
       "      <td>75.050003</td>\n",
       "      <td>230.899994</td>\n",
       "      <td>2482.600098</td>\n",
       "      <td>448.768763</td>\n",
       "    </tr>\n",
       "    <tr>\n",
       "      <th>1723</th>\n",
       "      <td>20191231</td>\n",
       "      <td>9.300000</td>\n",
       "      <td>72.849998</td>\n",
       "      <td>156.399994</td>\n",
       "      <td>89.400002</td>\n",
       "      <td>175.000000</td>\n",
       "      <td>37.900002</td>\n",
       "      <td>307.100006</td>\n",
       "      <td>1760.250000</td>\n",
       "      <td>326.025000</td>\n",
       "    </tr>\n",
       "    <tr>\n",
       "      <th>1556</th>\n",
       "      <td>20190424</td>\n",
       "      <td>14.000000</td>\n",
       "      <td>100.500000</td>\n",
       "      <td>254.600006</td>\n",
       "      <td>105.949997</td>\n",
       "      <td>219.649994</td>\n",
       "      <td>47.200001</td>\n",
       "      <td>266.750000</td>\n",
       "      <td>2077.449951</td>\n",
       "      <td>385.762494</td>\n",
       "    </tr>\n",
       "    <tr>\n",
       "      <th>1875</th>\n",
       "      <td>20200811</td>\n",
       "      <td>10.450000</td>\n",
       "      <td>66.650002</td>\n",
       "      <td>100.099998</td>\n",
       "      <td>65.900002</td>\n",
       "      <td>62.400002</td>\n",
       "      <td>46.599998</td>\n",
       "      <td>50.700001</td>\n",
       "      <td>1108.449951</td>\n",
       "      <td>188.906244</td>\n",
       "    </tr>\n",
       "  </tbody>\n",
       "</table>\n",
       "</div>"
      ],
      "text/plain": [
       "          Date  BINDALAGRO_Close  DATAMATICS_Close  GICHSGFIN_Close  \\\n",
       "474   20141203         32.549999         75.699997       187.250000   \n",
       "789   20160311         31.750000         50.200001       216.699997   \n",
       "133   20130711         17.299999         24.000000       114.849998   \n",
       "2266  20220307         21.799999        247.100006       129.550003   \n",
       "269   20140129         24.000000         51.200001       101.099998   \n",
       "1912  20201001         12.300000         76.849998        94.900002   \n",
       "1345  20180612         24.500000        109.000000       388.350006   \n",
       "1723  20191231          9.300000         72.849998       156.399994   \n",
       "1556  20190424         14.000000        100.500000       254.600006   \n",
       "1875  20200811         10.450000         66.650002       100.099998   \n",
       "\n",
       "      JTEKTINDIA_Close  OLECTRA_Close  SUNFLAG_Close  SUVEN_Close  \\\n",
       "474          59.450001      13.200000      28.600000   220.100006   \n",
       "789          42.900002      17.450001      21.400000   201.350006   \n",
       "133          10.800000      11.250000      18.450001    25.549999   \n",
       "2266         72.000000     583.400024      66.349998    72.650002   \n",
       "269          17.549999       9.400000      16.100000    73.699997   \n",
       "1912         75.900002      63.349998      42.450001    50.650002   \n",
       "1345        103.199997     176.550003      75.050003   230.899994   \n",
       "1723         89.400002     175.000000      37.900002   307.100006   \n",
       "1556        105.949997     219.649994      47.200001   266.750000   \n",
       "1875         65.900002      62.400002      46.599998    50.700001   \n",
       "\n",
       "      VENKEYS_Close  Average_Close  \n",
       "474      291.433319     113.535415  \n",
       "789      302.750000     110.562501  \n",
       "133      308.533325      66.341665  \n",
       "2266    1957.250000     393.762504  \n",
       "269      310.566681      75.452085  \n",
       "1912    1456.400024     234.100003  \n",
       "1345    2482.600098     448.768763  \n",
       "1723    1760.250000     326.025000  \n",
       "1556    2077.449951     385.762494  \n",
       "1875    1108.449951     188.906244  "
      ]
     },
     "execution_count": 5,
     "metadata": {},
     "output_type": "execute_result"
    }
   ],
   "source": [
    "df=pd.read_csv('Portfolio_1.csv')\n",
    "\n",
    "df.sample(10)"
   ]
  },
  {
   "cell_type": "code",
   "execution_count": 6,
   "id": "2a5c98dd",
   "metadata": {},
   "outputs": [],
   "source": [
    "import matplotlib.pyplot as plt"
   ]
  },
  {
   "cell_type": "markdown",
   "id": "540cc306",
   "metadata": {},
   "source": [
    "amader main column `Average_Close` tai ota niyei kaaj korte hobe "
   ]
  },
  {
   "cell_type": "code",
   "execution_count": 7,
   "id": "3b223f5f",
   "metadata": {},
   "outputs": [
    {
     "data": {
      "text/plain": [
       "[<matplotlib.lines.Line2D at 0x2768dd6e7f0>]"
      ]
     },
     "execution_count": 7,
     "metadata": {},
     "output_type": "execute_result"
    },
    {
     "data": {
      "image/png": "[encoded data removed]",
      "text/plain": [
       "<Figure size 432x288 with 1 Axes>"
      ]
     },
     "metadata": {
      "needs_background": "light"
     },
     "output_type": "display_data"
    }
   ],
   "source": [
    "# plot kore dekhi \n",
    "\n",
    "plt.plot(df['Average_Close'])"
   ]
  },
  {
   "cell_type": "markdown",
   "id": "d9b80265",
   "metadata": {},
   "source": [
    "so eta ki stationary ?\n",
    "ans = MS Dhoni , I mean Definitely Not"
   ]
  },
  {
   "cell_type": "markdown",
   "id": "3475f563",
   "metadata": {},
   "source": [
    "dekhe to bojha jacche but proof kivabe korbo ?"
   ]
  },
  {
   "cell_type": "markdown",
   "id": "dd7db27d",
   "metadata": {},
   "source": [
    "tar jonno ache\n",
    "\n",
    "## ADF testing\n",
    "#### ADF testing korte amader 2 to jinis lage\n",
    "##### 1) `NULL Hypothesis` 2) `Alternet Hypothesis`"
   ]
  },
  {
   "cell_type": "markdown",
   "id": "cba335d4",
   "metadata": {},
   "source": [
    "### 1) `NULL HYPOTHESIS`:-\n",
    " Null Hypothesis kaj kore jokhon series `non stationary` hoy lage\n",
    "### 2) `ALTERNET HYPOTHESIS`:-\n",
    " jokhon data `stationary` hoy tokhon eta kaje lage"
   ]
  },
  {
   "cell_type": "markdown",
   "id": "e52b4f9f",
   "metadata": {},
   "source": [
    "##### jodi `ADF Statistic < Critical value` hoy tahole Null Hypothesis gelo "
   ]
  },
  {
   "cell_type": "markdown",
   "id": "7fa70aa0",
   "metadata": {},
   "source": [
    "##### jodi `ADF Statistic > Critical value` hoy tahole Null Hypothesis k reject korbona "
   ]
  },
  {
   "cell_type": "markdown",
   "id": "147ff2f4",
   "metadata": {},
   "source": [
    "1) ADF Statistic = jeta bar korbo  2) Critical values = otao function call korle berobe"
   ]
  },
  {
   "cell_type": "markdown",
   "id": "8ebfaede",
   "metadata": {},
   "source": [
    "### <u>Eta korte gele amader kache `adfuller()` bole ekta function ache jetay :- "
   ]
  },
  {
   "cell_type": "markdown",
   "id": "27e4ea05",
   "metadata": {},
   "source": [
    "1) result[0] = ADF Statistics"
   ]
  },
  {
   "cell_type": "markdown",
   "id": "47554988",
   "metadata": {},
   "source": [
    "2) result[1]= p value"
   ]
  },
  {
   "cell_type": "markdown",
   "id": "2d895e28",
   "metadata": {},
   "source": [
    "3) result[4] = ekta array jate critical values thake  "
   ]
  },
  {
   "cell_type": "code",
   "execution_count": 8,
   "id": "97e53a51",
   "metadata": {},
   "outputs": [],
   "source": [
    "import statsmodels.api as sm\n",
    "from statsmodels.tsa.stattools import adfuller"
   ]
  },
  {
   "cell_type": "code",
   "execution_count": 9,
   "id": "159e417d",
   "metadata": {},
   "outputs": [
    {
     "name": "stdout",
     "output_type": "stream",
     "text": [
      "ADF Statistics = -1.538429\n",
      "p value = 0.514423\n",
      "Critical Values : \n",
      "\t 1% : -3.433012\n",
      "\t 5% : -2.862716\n",
      "\t 10% : -2.567396\n"
     ]
    }
   ],
   "source": [
    "# ebar kore dekhi\n",
    "\n",
    "x=df['Average_Close'].values\n",
    "result=adfuller(x)\n",
    "print('ADF Statistics = %f' %result[0])\n",
    "print('p value = %f' %result[1])\n",
    "print('Critical Values : ')\n",
    "for x,y in result[4].items():\n",
    "    print('\\t %s : %f' %(x,y))\n"
   ]
  },
  {
   "cell_type": "markdown",
   "id": "a637f3d3",
   "metadata": {},
   "source": [
    "##### ebar ADF Testing 2 vabe Koew\n",
    "1. p value jeta ache ota jodi `p-value > 0.05` hoy tahole **non stationary** ar `p-value <= 0.05` hole **stationary**"
   ]
  },
  {
   "cell_type": "markdown",
   "id": "823f15c8",
   "metadata": {},
   "source": [
    "2. ADF Statistics ta `critical value r cheye boro hole` **stationary** na hole **non stationary** "
   ]
  },
  {
   "cell_type": "markdown",
   "id": "9695010b",
   "metadata": {},
   "source": [
    "### Ami 2 toi AND diye dekhbo"
   ]
  },
  {
   "cell_type": "markdown",
   "id": "fc89135e",
   "metadata": {},
   "source": [
    "EKta function banai j sob kaaj korbe"
   ]
  },
  {
   "cell_type": "code",
   "execution_count": 17,
   "id": "cbdab8a3",
   "metadata": {},
   "outputs": [],
   "source": [
    "def test(index):\n",
    "    x=df[index].values\n",
    "    result=adfuller(x)\n",
    "    if(result[1] >0.05 and result[0]>result[4]['1%'] and result[0]>result[4]['5%'] and result[0]>result[4]['10%']):\n",
    "        print('Data is NON STATIONARY')\n",
    "    else:\n",
    "        print('Data is STATIONARY')"
   ]
  },
  {
   "cell_type": "code",
   "execution_count": 18,
   "id": "e61741c3",
   "metadata": {},
   "outputs": [
    {
     "name": "stdout",
     "output_type": "stream",
     "text": [
      "Data is NON STATIONARY\n"
     ]
    }
   ],
   "source": [
    "test('Average_Close')"
   ]
  },
  {
   "cell_type": "markdown",
   "id": "ac72c72c",
   "metadata": {},
   "source": [
    "#### Ekhon amader 1st Order Difference niye dekhte hobe"
   ]
  },
  {
   "cell_type": "code",
   "execution_count": 21,
   "id": "3c2c930a",
   "metadata": {},
   "outputs": [],
   "source": [
    "# 1st oorder diff mane df['Average_Close'][i+1]-df['Average_Close'][i]\n",
    "\n",
    "df['dif_1']=df['Average_Close'].diff()"
   ]
  },
  {
   "cell_type": "code",
   "execution_count": 23,
   "id": "11b8fead",
   "metadata": {},
   "outputs": [
    {
     "data": {
      "text/plain": [
       "1"
      ]
     },
     "execution_count": 23,
     "metadata": {},
     "output_type": "execute_result"
    }
   ],
   "source": [
    "# null kota ache dekhe ni\n",
    "\n",
    "df['dif_1'].isna().sum()"
   ]
  },
  {
   "cell_type": "code",
   "execution_count": 26,
   "id": "e60bbb0c",
   "metadata": {},
   "outputs": [],
   "source": [
    "# interpolation kore soralam\n",
    "\n",
    "df['dif_1']=df['dif_1'].interpolate(method='linear',limit_direction='both')"
   ]
  },
  {
   "cell_type": "code",
   "execution_count": 27,
   "id": "e9865f3b",
   "metadata": {},
   "outputs": [
    {
     "data": {
      "text/plain": [
       "0"
      ]
     },
     "execution_count": 27,
     "metadata": {},
     "output_type": "execute_result"
    }
   ],
   "source": [
    "#abar ekbar dekhe ni\n",
    "\n",
    "df['dif_1'].isna().sum()"
   ]
  },
  {
   "cell_type": "code",
   "execution_count": 28,
   "id": "64f3479b",
   "metadata": {},
   "outputs": [
    {
     "data": {
      "text/plain": [
       "[<matplotlib.lines.Line2D at 0x27693b77790>]"
      ]
     },
     "execution_count": 28,
     "metadata": {},
     "output_type": "execute_result"
    },
    {
     "data": {
      "image/png": "[encoded data removed]",
      "text/plain": [
       "<Figure size 432x288 with 1 Axes>"
      ]
     },
     "metadata": {
      "needs_background": "light"
     },
     "output_type": "display_data"
    }
   ],
   "source": [
    "plt.plot(df['dif_1']) #polt"
   ]
  },
  {
   "cell_type": "markdown",
   "id": "a6f0801f",
   "metadata": {},
   "source": [
    "agertar theke close to mean holo mane `stationarity barbe` "
   ]
  },
  {
   "cell_type": "code",
   "execution_count": 29,
   "id": "020f824e",
   "metadata": {},
   "outputs": [
    {
     "name": "stdout",
     "output_type": "stream",
     "text": [
      "Data is STATIONARY\n"
     ]
    }
   ],
   "source": [
    "# test function call diye dekhi\n",
    "\n",
    "test('dif_1')"
   ]
  },
  {
   "cell_type": "code",
   "execution_count": 30,
   "id": "0847e241",
   "metadata": {},
   "outputs": [
    {
     "name": "stdout",
     "output_type": "stream",
     "text": [
      "ADF Statistics = -19.677129\n",
      "p value = 0.000000\n",
      "Critical Values : \n",
      "\t 1% : -3.433007\n",
      "\t 5% : -2.862714\n",
      "\t 10% : -2.567395\n"
     ]
    }
   ],
   "source": [
    "# ekbar kore dekhi\n",
    "\n",
    "x=df['dif_1'].values\n",
    "result=adfuller(x)\n",
    "print('ADF Statistics = %f' %result[0])\n",
    "print('p value = %f' %result[1])\n",
    "print('Critical Values : ')\n",
    "for x,y in result[4].items():\n",
    "    print('\\t %s : %f' %(x,y))"
   ]
  },
  {
   "cell_type": "markdown",
   "id": "1d194785",
   "metadata": {},
   "source": [
    "## Tarmane amader 1st order Difference tai `Stationary Data` "
   ]
  },
  {
   "cell_type": "markdown",
   "id": "0ead8d03",
   "metadata": {},
   "source": [
    "####  2nd order difference ta niye dekhi etao stationary hole 1st order tao thik ache "
   ]
  },
  {
   "cell_type": "code",
   "execution_count": 31,
   "id": "ba6121ea",
   "metadata": {},
   "outputs": [],
   "source": [
    "df['dif_2']=df['dif_1'].diff()"
   ]
  },
  {
   "cell_type": "code",
   "execution_count": 32,
   "id": "0cdf396b",
   "metadata": {},
   "outputs": [
    {
     "data": {
      "text/plain": [
       "1"
      ]
     },
     "execution_count": 32,
     "metadata": {},
     "output_type": "execute_result"
    }
   ],
   "source": [
    "df['dif_2'].isna().sum()"
   ]
  },
  {
   "cell_type": "code",
   "execution_count": 33,
   "id": "89fb3fb8",
   "metadata": {},
   "outputs": [],
   "source": [
    "df['dif_2']=df['dif_2'].interpolate(method='linear',limit_direction='both')"
   ]
  },
  {
   "cell_type": "code",
   "execution_count": 34,
   "id": "b04f636a",
   "metadata": {},
   "outputs": [
    {
     "data": {
      "text/plain": [
       "0"
      ]
     },
     "execution_count": 34,
     "metadata": {},
     "output_type": "execute_result"
    }
   ],
   "source": [
    "df['dif_1'].isna().sum()"
   ]
  },
  {
   "cell_type": "code",
   "execution_count": 35,
   "id": "6bc50124",
   "metadata": {},
   "outputs": [
    {
     "data": {
      "text/plain": [
       "[<matplotlib.lines.Line2D at 0x27693b86430>]"
      ]
     },
     "execution_count": 35,
     "metadata": {},
     "output_type": "execute_result"
    },
    {
     "data": {
      "image/png": "[encoded data removed]",
      "text/plain": [
       "<Figure size 432x288 with 1 Axes>"
      ]
     },
     "metadata": {
      "needs_background": "light"
     },
     "output_type": "display_data"
    }
   ],
   "source": [
    "plt.plot(df['dif_2'])"
   ]
  },
  {
   "cell_type": "code",
   "execution_count": 36,
   "id": "e9b76ad9",
   "metadata": {},
   "outputs": [
    {
     "name": "stdout",
     "output_type": "stream",
     "text": [
      "Data is STATIONARY\n"
     ]
    }
   ],
   "source": [
    "test('dif_2')"
   ]
  },
  {
   "cell_type": "markdown",
   "id": "21380f88",
   "metadata": {},
   "source": [
    "## 2 Toi Dicche mane Amader ta thik ache "
   ]
  },
  {
   "cell_type": "markdown",
   "id": "6bb3caec",
   "metadata": {},
   "source": [
    "#### tar mane amader 1st order er data tai stationary"
   ]
  },
  {
   "cell_type": "markdown",
   "id": "9119de5f",
   "metadata": {},
   "source": [
    "Ebar 1st order ta rekhe csv baniye ni"
   ]
  },
  {
   "cell_type": "code",
   "execution_count": 37,
   "id": "c491bedf",
   "metadata": {},
   "outputs": [
    {
     "data": {
      "text/html": [
       "<div>\n",
       "<style scoped>\n",
       "    .dataframe tbody tr th:only-of-type {\n",
       "        vertical-align: middle;\n",
       "    }\n",
       "\n",
       "    .dataframe tbody tr th {\n",
       "        vertical-align: top;\n",
       "    }\n",
       "\n",
       "    .dataframe thead th {\n",
       "        text-align: right;\n",
       "    }\n",
       "</style>\n",
       "<table border=\"1\" class=\"dataframe\">\n",
       "  <thead>\n",
       "    <tr style=\"text-align: right;\">\n",
       "      <th></th>\n",
       "      <th>Date</th>\n",
       "      <th>BINDALAGRO_Close</th>\n",
       "      <th>DATAMATICS_Close</th>\n",
       "      <th>GICHSGFIN_Close</th>\n",
       "      <th>JTEKTINDIA_Close</th>\n",
       "      <th>OLECTRA_Close</th>\n",
       "      <th>SUNFLAG_Close</th>\n",
       "      <th>SUVEN_Close</th>\n",
       "      <th>VENKEYS_Close</th>\n",
       "      <th>Average_Close</th>\n",
       "      <th>dif_1</th>\n",
       "      <th>dif_2</th>\n",
       "    </tr>\n",
       "  </thead>\n",
       "  <tbody>\n",
       "    <tr>\n",
       "      <th>0</th>\n",
       "      <td>20121231</td>\n",
       "      <td>32.099998</td>\n",
       "      <td>30.200001</td>\n",
       "      <td>128.250000</td>\n",
       "      <td>12.85</td>\n",
       "      <td>11.80</td>\n",
       "      <td>23.850000</td>\n",
       "      <td>30.900000</td>\n",
       "      <td>309.766663</td>\n",
       "      <td>72.464583</td>\n",
       "      <td>0.856250</td>\n",
       "      <td>0.000000</td>\n",
       "    </tr>\n",
       "    <tr>\n",
       "      <th>1</th>\n",
       "      <td>20130101</td>\n",
       "      <td>32.049999</td>\n",
       "      <td>30.400000</td>\n",
       "      <td>132.550003</td>\n",
       "      <td>12.90</td>\n",
       "      <td>11.15</td>\n",
       "      <td>24.000000</td>\n",
       "      <td>31.750000</td>\n",
       "      <td>311.766663</td>\n",
       "      <td>73.320833</td>\n",
       "      <td>0.856250</td>\n",
       "      <td>0.000000</td>\n",
       "    </tr>\n",
       "    <tr>\n",
       "      <th>2</th>\n",
       "      <td>20130102</td>\n",
       "      <td>31.700001</td>\n",
       "      <td>30.750000</td>\n",
       "      <td>134.550003</td>\n",
       "      <td>12.95</td>\n",
       "      <td>11.00</td>\n",
       "      <td>24.650000</td>\n",
       "      <td>31.250000</td>\n",
       "      <td>321.433319</td>\n",
       "      <td>74.785415</td>\n",
       "      <td>1.464582</td>\n",
       "      <td>0.608332</td>\n",
       "    </tr>\n",
       "    <tr>\n",
       "      <th>3</th>\n",
       "      <td>20130103</td>\n",
       "      <td>31.549999</td>\n",
       "      <td>31.600000</td>\n",
       "      <td>138.250000</td>\n",
       "      <td>13.00</td>\n",
       "      <td>10.85</td>\n",
       "      <td>26.950001</td>\n",
       "      <td>31.299999</td>\n",
       "      <td>321.133331</td>\n",
       "      <td>75.579166</td>\n",
       "      <td>0.793751</td>\n",
       "      <td>-0.670831</td>\n",
       "    </tr>\n",
       "    <tr>\n",
       "      <th>4</th>\n",
       "      <td>20130104</td>\n",
       "      <td>31.400000</td>\n",
       "      <td>30.400000</td>\n",
       "      <td>140.750000</td>\n",
       "      <td>12.90</td>\n",
       "      <td>10.85</td>\n",
       "      <td>26.500000</td>\n",
       "      <td>32.500000</td>\n",
       "      <td>318.433319</td>\n",
       "      <td>75.466665</td>\n",
       "      <td>-0.112501</td>\n",
       "      <td>-0.906252</td>\n",
       "    </tr>\n",
       "  </tbody>\n",
       "</table>\n",
       "</div>"
      ],
      "text/plain": [
       "       Date  BINDALAGRO_Close  DATAMATICS_Close  GICHSGFIN_Close  \\\n",
       "0  20121231         32.099998         30.200001       128.250000   \n",
       "1  20130101         32.049999         30.400000       132.550003   \n",
       "2  20130102         31.700001         30.750000       134.550003   \n",
       "3  20130103         31.549999         31.600000       138.250000   \n",
       "4  20130104         31.400000         30.400000       140.750000   \n",
       "\n",
       "   JTEKTINDIA_Close  OLECTRA_Close  SUNFLAG_Close  SUVEN_Close  VENKEYS_Close  \\\n",
       "0             12.85          11.80      23.850000    30.900000     309.766663   \n",
       "1             12.90          11.15      24.000000    31.750000     311.766663   \n",
       "2             12.95          11.00      24.650000    31.250000     321.433319   \n",
       "3             13.00          10.85      26.950001    31.299999     321.133331   \n",
       "4             12.90          10.85      26.500000    32.500000     318.433319   \n",
       "\n",
       "   Average_Close     dif_1     dif_2  \n",
       "0      72.464583  0.856250  0.000000  \n",
       "1      73.320833  0.856250  0.000000  \n",
       "2      74.785415  1.464582  0.608332  \n",
       "3      75.579166  0.793751 -0.670831  \n",
       "4      75.466665 -0.112501 -0.906252  "
      ]
     },
     "execution_count": 37,
     "metadata": {},
     "output_type": "execute_result"
    }
   ],
   "source": [
    "df.head()"
   ]
  },
  {
   "cell_type": "code",
   "execution_count": 38,
   "id": "ca3d4e1b",
   "metadata": {},
   "outputs": [],
   "source": [
    "# last e dif_2 ta ache ota lagbena tai ota delete kore di\n",
    "\n",
    "del df[df.columns[-1]] "
   ]
  },
  {
   "cell_type": "code",
   "execution_count": 39,
   "id": "98153164",
   "metadata": {},
   "outputs": [
    {
     "data": {
      "text/html": [
       "<div>\n",
       "<style scoped>\n",
       "    .dataframe tbody tr th:only-of-type {\n",
       "        vertical-align: middle;\n",
       "    }\n",
       "\n",
       "    .dataframe tbody tr th {\n",
       "        vertical-align: top;\n",
       "    }\n",
       "\n",
       "    .dataframe thead th {\n",
       "        text-align: right;\n",
       "    }\n",
       "</style>\n",
       "<table border=\"1\" class=\"dataframe\">\n",
       "  <thead>\n",
       "    <tr style=\"text-align: right;\">\n",
       "      <th></th>\n",
       "      <th>Date</th>\n",
       "      <th>BINDALAGRO_Close</th>\n",
       "      <th>DATAMATICS_Close</th>\n",
       "      <th>GICHSGFIN_Close</th>\n",
       "      <th>JTEKTINDIA_Close</th>\n",
       "      <th>OLECTRA_Close</th>\n",
       "      <th>SUNFLAG_Close</th>\n",
       "      <th>SUVEN_Close</th>\n",
       "      <th>VENKEYS_Close</th>\n",
       "      <th>Average_Close</th>\n",
       "      <th>dif_1</th>\n",
       "    </tr>\n",
       "  </thead>\n",
       "  <tbody>\n",
       "    <tr>\n",
       "      <th>0</th>\n",
       "      <td>20121231</td>\n",
       "      <td>32.099998</td>\n",
       "      <td>30.200001</td>\n",
       "      <td>128.250000</td>\n",
       "      <td>12.85</td>\n",
       "      <td>11.80</td>\n",
       "      <td>23.850000</td>\n",
       "      <td>30.900000</td>\n",
       "      <td>309.766663</td>\n",
       "      <td>72.464583</td>\n",
       "      <td>0.856250</td>\n",
       "    </tr>\n",
       "    <tr>\n",
       "      <th>1</th>\n",
       "      <td>20130101</td>\n",
       "      <td>32.049999</td>\n",
       "      <td>30.400000</td>\n",
       "      <td>132.550003</td>\n",
       "      <td>12.90</td>\n",
       "      <td>11.15</td>\n",
       "      <td>24.000000</td>\n",
       "      <td>31.750000</td>\n",
       "      <td>311.766663</td>\n",
       "      <td>73.320833</td>\n",
       "      <td>0.856250</td>\n",
       "    </tr>\n",
       "    <tr>\n",
       "      <th>2</th>\n",
       "      <td>20130102</td>\n",
       "      <td>31.700001</td>\n",
       "      <td>30.750000</td>\n",
       "      <td>134.550003</td>\n",
       "      <td>12.95</td>\n",
       "      <td>11.00</td>\n",
       "      <td>24.650000</td>\n",
       "      <td>31.250000</td>\n",
       "      <td>321.433319</td>\n",
       "      <td>74.785415</td>\n",
       "      <td>1.464582</td>\n",
       "    </tr>\n",
       "    <tr>\n",
       "      <th>3</th>\n",
       "      <td>20130103</td>\n",
       "      <td>31.549999</td>\n",
       "      <td>31.600000</td>\n",
       "      <td>138.250000</td>\n",
       "      <td>13.00</td>\n",
       "      <td>10.85</td>\n",
       "      <td>26.950001</td>\n",
       "      <td>31.299999</td>\n",
       "      <td>321.133331</td>\n",
       "      <td>75.579166</td>\n",
       "      <td>0.793751</td>\n",
       "    </tr>\n",
       "    <tr>\n",
       "      <th>4</th>\n",
       "      <td>20130104</td>\n",
       "      <td>31.400000</td>\n",
       "      <td>30.400000</td>\n",
       "      <td>140.750000</td>\n",
       "      <td>12.90</td>\n",
       "      <td>10.85</td>\n",
       "      <td>26.500000</td>\n",
       "      <td>32.500000</td>\n",
       "      <td>318.433319</td>\n",
       "      <td>75.466665</td>\n",
       "      <td>-0.112501</td>\n",
       "    </tr>\n",
       "  </tbody>\n",
       "</table>\n",
       "</div>"
      ],
      "text/plain": [
       "       Date  BINDALAGRO_Close  DATAMATICS_Close  GICHSGFIN_Close  \\\n",
       "0  20121231         32.099998         30.200001       128.250000   \n",
       "1  20130101         32.049999         30.400000       132.550003   \n",
       "2  20130102         31.700001         30.750000       134.550003   \n",
       "3  20130103         31.549999         31.600000       138.250000   \n",
       "4  20130104         31.400000         30.400000       140.750000   \n",
       "\n",
       "   JTEKTINDIA_Close  OLECTRA_Close  SUNFLAG_Close  SUVEN_Close  VENKEYS_Close  \\\n",
       "0             12.85          11.80      23.850000    30.900000     309.766663   \n",
       "1             12.90          11.15      24.000000    31.750000     311.766663   \n",
       "2             12.95          11.00      24.650000    31.250000     321.433319   \n",
       "3             13.00          10.85      26.950001    31.299999     321.133331   \n",
       "4             12.90          10.85      26.500000    32.500000     318.433319   \n",
       "\n",
       "   Average_Close     dif_1  \n",
       "0      72.464583  0.856250  \n",
       "1      73.320833  0.856250  \n",
       "2      74.785415  1.464582  \n",
       "3      75.579166  0.793751  \n",
       "4      75.466665 -0.112501  "
      ]
     },
     "execution_count": 39,
     "metadata": {},
     "output_type": "execute_result"
    }
   ],
   "source": [
    "df.head()"
   ]
  },
  {
   "cell_type": "code",
   "execution_count": 40,
   "id": "2b1366af",
   "metadata": {},
   "outputs": [],
   "source": [
    "#csv ta save kori\n",
    "\n",
    "df.to_csv(\"Stationary.csv\",index=False)"
   ]
  },
  {
   "cell_type": "code",
   "execution_count": null,
   "id": "572d4399",
   "metadata": {},
   "outputs": [],
   "source": []
  }
 ],
 "metadata": {
  "kernelspec": {
   "display_name": "Python 3",
   "language": "python",
   "name": "python3"
  },
  "language_info": {
   "codemirror_mode": {
    "name": "ipython",
    "version": 3
   },
   "file_extension": ".py",
   "mimetype": "text/x-python",
   "name": "python",
   "nbconvert_exporter": "python",
   "pygments_lexer": "ipython3",
   "version": "3.8.3"
  }
 },
 "nbformat": 4,
 "nbformat_minor": 5
}
