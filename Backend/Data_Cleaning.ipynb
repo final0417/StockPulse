{
 "cells": [
  {
   "cell_type": "markdown",
   "metadata": {},
   "source": [
    "## To clean The The Dataset folder "
   ]
  },
  {
   "cell_type": "code",
   "execution_count": 4,
   "metadata": {},
   "outputs": [],
   "source": [
    "import numpy as np\n",
    "import pandas as pd\n",
    "import os"
   ]
  },
  {
   "cell_type": "markdown",
   "metadata": {},
   "source": [
    "#### to list of files in that folder\n"
   ]
  },
  {
   "cell_type": "code",
   "execution_count": 5,
   "metadata": {},
   "outputs": [],
   "source": [
    "path='D://Programming//Final Project//Non Null//Automobile'"
   ]
  },
  {
   "cell_type": "code",
   "execution_count": 6,
   "metadata": {},
   "outputs": [
    {
     "data": {
      "text/plain": [
       "['.ipynb_checkpoints',\n",
       " '1Details.txt',\n",
       " '1_null_clearer.ipynb',\n",
       " 'AUTOAXLES.csv',\n",
       " 'ENKEIWHEL.csv',\n",
       " 'GABRIEL.csv',\n",
       " 'JAYBARMARU.csv',\n",
       " 'JKTYRE.csv',\n",
       " 'JTEKTINDIA.csv',\n",
       " 'LUMAXIND.csv',\n",
       " 'PRICOLLTD.csv',\n",
       " 'TVSSRICHAK.csv',\n",
       " 'WHEELS.csv']"
      ]
     },
     "execution_count": 6,
     "metadata": {},
     "output_type": "execute_result"
    }
   ],
   "source": [
    "dir_list = os.listdir(path)\n",
    "dir_list"
   ]
  },
  {
   "cell_type": "markdown",
   "metadata": {},
   "source": [
    "#### to list only csv files"
   ]
  },
  {
   "cell_type": "code",
   "execution_count": 7,
   "metadata": {},
   "outputs": [
    {
     "data": {
      "text/plain": [
       "['AUTOAXLES.csv',\n",
       " 'ENKEIWHEL.csv',\n",
       " 'GABRIEL.csv',\n",
       " 'JAYBARMARU.csv',\n",
       " 'JKTYRE.csv',\n",
       " 'JTEKTINDIA.csv',\n",
       " 'LUMAXIND.csv',\n",
       " 'PRICOLLTD.csv',\n",
       " 'TVSSRICHAK.csv',\n",
       " 'WHEELS.csv']"
      ]
     },
     "execution_count": 7,
     "metadata": {},
     "output_type": "execute_result"
    }
   ],
   "source": [
    "csv_list=[]\n",
    "c='csv'\n",
    "for i in dir_list:\n",
    "    if c in i:\n",
    "        csv_list.append(i)\n",
    "\n",
    "csv_list"
   ]
  },
  {
   "cell_type": "markdown",
   "metadata": {},
   "source": [
    "#### To check how many null value exists in each csv"
   ]
  },
  {
   "cell_type": "code",
   "execution_count": 10,
   "metadata": {},
   "outputs": [
    {
     "name": "stdout",
     "output_type": "stream",
     "text": [
      "null values in AUTOAXLES.csv\n",
      "Date         0\n",
      "Open         2\n",
      "High         2\n",
      "Low          2\n",
      "Close        2\n",
      "Adj Close    2\n",
      "Volume       2\n",
      "dtype: int64\n",
      "null values in ENKEIWHEL.csv\n",
      "Date         0\n",
      "Open         2\n",
      "High         2\n",
      "Low          2\n",
      "Close        2\n",
      "Adj Close    2\n",
      "Volume       2\n",
      "dtype: int64\n",
      "null values in GABRIEL.csv\n",
      "Date         0\n",
      "Open         2\n",
      "High         2\n",
      "Low          2\n",
      "Close        2\n",
      "Adj Close    2\n",
      "Volume       2\n",
      "dtype: int64\n",
      "null values in JAYBARMARU.csv\n",
      "Date         0\n",
      "Open         2\n",
      "High         2\n",
      "Low          2\n",
      "Close        2\n",
      "Adj Close    2\n",
      "Volume       2\n",
      "dtype: int64\n",
      "null values in JKTYRE.csv\n",
      "Date         0\n",
      "Open         2\n",
      "High         2\n",
      "Low          2\n",
      "Close        2\n",
      "Adj Close    2\n",
      "Volume       2\n",
      "dtype: int64\n",
      "null values in JTEKTINDIA.csv\n",
      "Date         0\n",
      "Open         2\n",
      "High         2\n",
      "Low          2\n",
      "Close        2\n",
      "Adj Close    2\n",
      "Volume       2\n",
      "dtype: int64\n",
      "null values in LUMAXIND.csv\n",
      "Date         0\n",
      "Open         2\n",
      "High         2\n",
      "Low          2\n",
      "Close        2\n",
      "Adj Close    2\n",
      "Volume       2\n",
      "dtype: int64\n",
      "null values in PRICOLLTD.csv\n",
      "Date         0\n",
      "Open         2\n",
      "High         2\n",
      "Low          2\n",
      "Close        2\n",
      "Adj Close    2\n",
      "Volume       2\n",
      "dtype: int64\n",
      "null values in TVSSRICHAK.csv\n",
      "Date         0\n",
      "Open         2\n",
      "High         2\n",
      "Low          2\n",
      "Close        2\n",
      "Adj Close    2\n",
      "Volume       2\n",
      "dtype: int64\n",
      "null values in WHEELS.csv\n",
      "Date         0\n",
      "Open         2\n",
      "High         2\n",
      "Low          2\n",
      "Close        2\n",
      "Adj Close    2\n",
      "Volume       2\n",
      "dtype: int64\n"
     ]
    }
   ],
   "source": [
    "for i in csv_list:\n",
    "    df=pd.read_csv(i)\n",
    "    print(\"null values in \"+i)\n",
    "    print(df.isna().sum())"
   ]
  },
  {
   "cell_type": "markdown",
   "metadata": {},
   "source": [
    "## To Fill The Null Values in the data"
   ]
  },
  {
   "cell_type": "markdown",
   "metadata": {},
   "source": [
    "#### I will use Interpolation Both Method "
   ]
  },
  {
   "cell_type": "code",
   "execution_count": 14,
   "metadata": {},
   "outputs": [],
   "source": [
    "for i in csv_list:\n",
    "    df=pd.read_csv(i)\n",
    "    df=df.interpolate(method='linear',limit_direction='both')\n",
    "    df.to_csv(i)"
   ]
  },
  {
   "cell_type": "markdown",
   "metadata": {},
   "source": [
    "## Now Null Values Are Filled"
   ]
  },
  {
   "cell_type": "markdown",
   "metadata": {},
   "source": [
    "#### let's now check null values "
   ]
  },
  {
   "cell_type": "code",
   "execution_count": 15,
   "metadata": {},
   "outputs": [
    {
     "name": "stdout",
     "output_type": "stream",
     "text": [
      "null values in AUTOAXLES.csv\n",
      "Unnamed: 0    0\n",
      "Date          0\n",
      "Open          0\n",
      "High          0\n",
      "Low           0\n",
      "Close         0\n",
      "Adj Close     0\n",
      "Volume        0\n",
      "dtype: int64\n",
      "null values in ENKEIWHEL.csv\n",
      "Unnamed: 0    0\n",
      "Date          0\n",
      "Open          0\n",
      "High          0\n",
      "Low           0\n",
      "Close         0\n",
      "Adj Close     0\n",
      "Volume        0\n",
      "dtype: int64\n",
      "null values in GABRIEL.csv\n",
      "Unnamed: 0    0\n",
      "Date          0\n",
      "Open          0\n",
      "High          0\n",
      "Low           0\n",
      "Close         0\n",
      "Adj Close     0\n",
      "Volume        0\n",
      "dtype: int64\n",
      "null values in JAYBARMARU.csv\n",
      "Unnamed: 0    0\n",
      "Date          0\n",
      "Open          0\n",
      "High          0\n",
      "Low           0\n",
      "Close         0\n",
      "Adj Close     0\n",
      "Volume        0\n",
      "dtype: int64\n",
      "null values in JKTYRE.csv\n",
      "Unnamed: 0    0\n",
      "Date          0\n",
      "Open          0\n",
      "High          0\n",
      "Low           0\n",
      "Close         0\n",
      "Adj Close     0\n",
      "Volume        0\n",
      "dtype: int64\n",
      "null values in JTEKTINDIA.csv\n",
      "Unnamed: 0    0\n",
      "Date          0\n",
      "Open          0\n",
      "High          0\n",
      "Low           0\n",
      "Close         0\n",
      "Adj Close     0\n",
      "Volume        0\n",
      "dtype: int64\n",
      "null values in LUMAXIND.csv\n",
      "Unnamed: 0    0\n",
      "Date          0\n",
      "Open          0\n",
      "High          0\n",
      "Low           0\n",
      "Close         0\n",
      "Adj Close     0\n",
      "Volume        0\n",
      "dtype: int64\n",
      "null values in PRICOLLTD.csv\n",
      "Unnamed: 0    0\n",
      "Date          0\n",
      "Open          0\n",
      "High          0\n",
      "Low           0\n",
      "Close         0\n",
      "Adj Close     0\n",
      "Volume        0\n",
      "dtype: int64\n",
      "null values in TVSSRICHAK.csv\n",
      "Unnamed: 0    0\n",
      "Date          0\n",
      "Open          0\n",
      "High          0\n",
      "Low           0\n",
      "Close         0\n",
      "Adj Close     0\n",
      "Volume        0\n",
      "dtype: int64\n",
      "null values in WHEELS.csv\n",
      "Unnamed: 0    0\n",
      "Date          0\n",
      "Open          0\n",
      "High          0\n",
      "Low           0\n",
      "Close         0\n",
      "Adj Close     0\n",
      "Volume        0\n",
      "dtype: int64\n"
     ]
    }
   ],
   "source": [
    "for i in csv_list:\n",
    "    df=pd.read_csv(i)\n",
    "    print(\"null values in \"+i)\n",
    "    print(df.isna().sum())"
   ]
  },
  {
   "cell_type": "markdown",
   "metadata": {},
   "source": [
    "### You can Try this Method to Remove the nulls in whole folder in a single code"
   ]
  },
  {
   "cell_type": "code",
   "execution_count": null,
   "metadata": {},
   "outputs": [],
   "source": []
  }
 ],
 "metadata": {
  "kernelspec": {
   "display_name": "Python 3",
   "language": "python",
   "name": "python3"
  },
  "language_info": {
   "codemirror_mode": {
    "name": "ipython",
    "version": 3
   },
   "file_extension": ".py",
   "mimetype": "text/x-python",
   "name": "python",
   "nbconvert_exporter": "python",
   "pygments_lexer": "ipython3",
   "version": "3.8.3"
  }
 },
 "nbformat": 4,
 "nbformat_minor": 4
}
