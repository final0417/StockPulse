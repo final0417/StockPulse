{
 "cells": [
  {
   "cell_type": "markdown",
   "id": "aa93381a",
   "metadata": {},
   "source": [
    "# Normalization"
   ]
  },
  {
   "cell_type": "code",
   "execution_count": 22,
   "id": "0249d7a4",
   "metadata": {},
   "outputs": [],
   "source": [
    "import numpy as np\n",
    "import pandas as pd"
   ]
  },
  {
   "cell_type": "code",
   "execution_count": 23,
   "id": "286826ac",
   "metadata": {},
   "outputs": [],
   "source": [
    "data=pd.read_csv('Stationary_1.csv')"
   ]
  },
  {
   "cell_type": "code",
   "execution_count": 24,
   "id": "58cee6d7",
   "metadata": {},
   "outputs": [
    {
     "data": {
      "text/html": [
       "<div>\n",
       "<style scoped>\n",
       "    .dataframe tbody tr th:only-of-type {\n",
       "        vertical-align: middle;\n",
       "    }\n",
       "\n",
       "    .dataframe tbody tr th {\n",
       "        vertical-align: top;\n",
       "    }\n",
       "\n",
       "    .dataframe thead th {\n",
       "        text-align: right;\n",
       "    }\n",
       "</style>\n",
       "<table border=\"1\" class=\"dataframe\">\n",
       "  <thead>\n",
       "    <tr style=\"text-align: right;\">\n",
       "      <th></th>\n",
       "      <th>Date</th>\n",
       "      <th>BINDALAGRO_Close</th>\n",
       "      <th>DATAMATICS_Close</th>\n",
       "      <th>GICHSGFIN_Close</th>\n",
       "      <th>JTEKTINDIA_Close</th>\n",
       "      <th>OLECTRA_Close</th>\n",
       "      <th>SUNFLAG_Close</th>\n",
       "      <th>SUVEN_Close</th>\n",
       "      <th>VENKEYS_Close</th>\n",
       "      <th>Average_Close</th>\n",
       "      <th>dif_1</th>\n",
       "    </tr>\n",
       "  </thead>\n",
       "  <tbody>\n",
       "    <tr>\n",
       "      <th>1525</th>\n",
       "      <td>2017-03-05</td>\n",
       "      <td>25.75</td>\n",
       "      <td>135.550003</td>\n",
       "      <td>301.549988</td>\n",
       "      <td>81.599998</td>\n",
       "      <td>56.799999</td>\n",
       "      <td>36.900002</td>\n",
       "      <td>169.350006</td>\n",
       "      <td>833.500000</td>\n",
       "      <td>205.125000</td>\n",
       "      <td>0.000000</td>\n",
       "    </tr>\n",
       "    <tr>\n",
       "      <th>2439</th>\n",
       "      <td>2019-09-05</td>\n",
       "      <td>8.30</td>\n",
       "      <td>74.800003</td>\n",
       "      <td>170.050003</td>\n",
       "      <td>76.599998</td>\n",
       "      <td>157.300003</td>\n",
       "      <td>25.549999</td>\n",
       "      <td>254.800003</td>\n",
       "      <td>1396.650024</td>\n",
       "      <td>270.506254</td>\n",
       "      <td>1.656260</td>\n",
       "    </tr>\n",
       "    <tr>\n",
       "      <th>2442</th>\n",
       "      <td>2019-09-08</td>\n",
       "      <td>8.75</td>\n",
       "      <td>80.199997</td>\n",
       "      <td>169.750000</td>\n",
       "      <td>76.900002</td>\n",
       "      <td>175.800003</td>\n",
       "      <td>26.549999</td>\n",
       "      <td>258.450012</td>\n",
       "      <td>1404.550049</td>\n",
       "      <td>275.118758</td>\n",
       "      <td>0.000000</td>\n",
       "    </tr>\n",
       "    <tr>\n",
       "      <th>127</th>\n",
       "      <td>2013-05-07</td>\n",
       "      <td>22.10</td>\n",
       "      <td>27.400000</td>\n",
       "      <td>124.650002</td>\n",
       "      <td>10.550000</td>\n",
       "      <td>9.200000</td>\n",
       "      <td>20.500000</td>\n",
       "      <td>27.450001</td>\n",
       "      <td>362.733337</td>\n",
       "      <td>75.572918</td>\n",
       "      <td>0.566666</td>\n",
       "    </tr>\n",
       "    <tr>\n",
       "      <th>2618</th>\n",
       "      <td>2020-03-02</td>\n",
       "      <td>10.35</td>\n",
       "      <td>57.950001</td>\n",
       "      <td>94.500000</td>\n",
       "      <td>75.000000</td>\n",
       "      <td>110.800003</td>\n",
       "      <td>36.049999</td>\n",
       "      <td>58.900002</td>\n",
       "      <td>1196.900024</td>\n",
       "      <td>205.056254</td>\n",
       "      <td>-5.268744</td>\n",
       "    </tr>\n",
       "  </tbody>\n",
       "</table>\n",
       "</div>"
      ],
      "text/plain": [
       "            Date  BINDALAGRO_Close  DATAMATICS_Close  GICHSGFIN_Close  \\\n",
       "1525  2017-03-05             25.75        135.550003       301.549988   \n",
       "2439  2019-09-05              8.30         74.800003       170.050003   \n",
       "2442  2019-09-08              8.75         80.199997       169.750000   \n",
       "127   2013-05-07             22.10         27.400000       124.650002   \n",
       "2618  2020-03-02             10.35         57.950001        94.500000   \n",
       "\n",
       "      JTEKTINDIA_Close  OLECTRA_Close  SUNFLAG_Close  SUVEN_Close  \\\n",
       "1525         81.599998      56.799999      36.900002   169.350006   \n",
       "2439         76.599998     157.300003      25.549999   254.800003   \n",
       "2442         76.900002     175.800003      26.549999   258.450012   \n",
       "127          10.550000       9.200000      20.500000    27.450001   \n",
       "2618         75.000000     110.800003      36.049999    58.900002   \n",
       "\n",
       "      VENKEYS_Close  Average_Close     dif_1  \n",
       "1525     833.500000     205.125000  0.000000  \n",
       "2439    1396.650024     270.506254  1.656260  \n",
       "2442    1404.550049     275.118758  0.000000  \n",
       "127      362.733337      75.572918  0.566666  \n",
       "2618    1196.900024     205.056254 -5.268744  "
      ]
     },
     "execution_count": 24,
     "metadata": {},
     "output_type": "execute_result"
    }
   ],
   "source": [
    "data.sample(5)"
   ]
  },
  {
   "cell_type": "code",
   "execution_count": 25,
   "id": "1cbcaaea",
   "metadata": {},
   "outputs": [],
   "source": [
    "df=pd.DataFrame()\n",
    "df['Date']=data['Date']\n",
    "df['value']=data['dif_1']"
   ]
  },
  {
   "cell_type": "code",
   "execution_count": 26,
   "id": "39ad6268",
   "metadata": {},
   "outputs": [
    {
     "data": {
      "text/html": [
       "<div>\n",
       "<style scoped>\n",
       "    .dataframe tbody tr th:only-of-type {\n",
       "        vertical-align: middle;\n",
       "    }\n",
       "\n",
       "    .dataframe tbody tr th {\n",
       "        vertical-align: top;\n",
       "    }\n",
       "\n",
       "    .dataframe thead th {\n",
       "        text-align: right;\n",
       "    }\n",
       "</style>\n",
       "<table border=\"1\" class=\"dataframe\">\n",
       "  <thead>\n",
       "    <tr style=\"text-align: right;\">\n",
       "      <th></th>\n",
       "      <th>Date</th>\n",
       "      <th>value</th>\n",
       "    </tr>\n",
       "  </thead>\n",
       "  <tbody>\n",
       "    <tr>\n",
       "      <th>3583</th>\n",
       "      <td>2022-10-23</td>\n",
       "      <td>0.000000</td>\n",
       "    </tr>\n",
       "    <tr>\n",
       "      <th>2260</th>\n",
       "      <td>2019-03-10</td>\n",
       "      <td>0.000000</td>\n",
       "    </tr>\n",
       "    <tr>\n",
       "      <th>3579</th>\n",
       "      <td>2022-10-19</td>\n",
       "      <td>0.099986</td>\n",
       "    </tr>\n",
       "    <tr>\n",
       "      <th>2514</th>\n",
       "      <td>2019-11-19</td>\n",
       "      <td>-2.750000</td>\n",
       "    </tr>\n",
       "    <tr>\n",
       "      <th>1123</th>\n",
       "      <td>2016-01-28</td>\n",
       "      <td>2.518752</td>\n",
       "    </tr>\n",
       "  </tbody>\n",
       "</table>\n",
       "</div>"
      ],
      "text/plain": [
       "            Date     value\n",
       "3583  2022-10-23  0.000000\n",
       "2260  2019-03-10  0.000000\n",
       "3579  2022-10-19  0.099986\n",
       "2514  2019-11-19 -2.750000\n",
       "1123  2016-01-28  2.518752"
      ]
     },
     "execution_count": 26,
     "metadata": {},
     "output_type": "execute_result"
    }
   ],
   "source": [
    "df.sample(5)"
   ]
  },
  {
   "cell_type": "code",
   "execution_count": 27,
   "id": "a95521d4",
   "metadata": {},
   "outputs": [
    {
     "data": {
      "text/html": [
       "<div>\n",
       "<style scoped>\n",
       "    .dataframe tbody tr th:only-of-type {\n",
       "        vertical-align: middle;\n",
       "    }\n",
       "\n",
       "    .dataframe tbody tr th {\n",
       "        vertical-align: top;\n",
       "    }\n",
       "\n",
       "    .dataframe thead th {\n",
       "        text-align: right;\n",
       "    }\n",
       "</style>\n",
       "<table border=\"1\" class=\"dataframe\">\n",
       "  <thead>\n",
       "    <tr style=\"text-align: right;\">\n",
       "      <th></th>\n",
       "      <th>value</th>\n",
       "    </tr>\n",
       "  </thead>\n",
       "  <tbody>\n",
       "    <tr>\n",
       "      <th>count</th>\n",
       "      <td>3653.000000</td>\n",
       "    </tr>\n",
       "    <tr>\n",
       "      <th>mean</th>\n",
       "      <td>0.091743</td>\n",
       "    </tr>\n",
       "    <tr>\n",
       "      <th>std</th>\n",
       "      <td>6.639274</td>\n",
       "    </tr>\n",
       "    <tr>\n",
       "      <th>min</th>\n",
       "      <td>-46.468725</td>\n",
       "    </tr>\n",
       "    <tr>\n",
       "      <th>25%</th>\n",
       "      <td>-0.912500</td>\n",
       "    </tr>\n",
       "    <tr>\n",
       "      <th>50%</th>\n",
       "      <td>0.000000</td>\n",
       "    </tr>\n",
       "    <tr>\n",
       "      <th>75%</th>\n",
       "      <td>0.812500</td>\n",
       "    </tr>\n",
       "    <tr>\n",
       "      <th>max</th>\n",
       "      <td>71.112503</td>\n",
       "    </tr>\n",
       "  </tbody>\n",
       "</table>\n",
       "</div>"
      ],
      "text/plain": [
       "             value\n",
       "count  3653.000000\n",
       "mean      0.091743\n",
       "std       6.639274\n",
       "min     -46.468725\n",
       "25%      -0.912500\n",
       "50%       0.000000\n",
       "75%       0.812500\n",
       "max      71.112503"
      ]
     },
     "execution_count": 27,
     "metadata": {},
     "output_type": "execute_result"
    }
   ],
   "source": [
    "df.describe()"
   ]
  },
  {
   "cell_type": "code",
   "execution_count": 28,
   "id": "f620756e",
   "metadata": {},
   "outputs": [
    {
     "name": "stdout",
     "output_type": "stream",
     "text": [
      "Minimum value: -46.46872549999995\n",
      "Maximum value: 71.11250250000012\n"
     ]
    }
   ],
   "source": [
    "print('Minimum value:', df['value'].min())\n",
    "print('Maximum value:', df['value'].max())"
   ]
  },
  {
   "cell_type": "code",
   "execution_count": 31,
   "id": "f66fce0b",
   "metadata": {},
   "outputs": [],
   "source": [
    "# to normalize we will use z score normalization\n",
    "\n",
    "from sklearn.preprocessing import MinMaxScaler\n",
    "scaler = MinMaxScaler()\n",
    "df['value']=scaler.fit_transform(df[['value']])"
   ]
  },
  {
   "cell_type": "code",
   "execution_count": 32,
   "id": "c65b4067",
   "metadata": {},
   "outputs": [
    {
     "data": {
      "text/html": [
       "<div>\n",
       "<style scoped>\n",
       "    .dataframe tbody tr th:only-of-type {\n",
       "        vertical-align: middle;\n",
       "    }\n",
       "\n",
       "    .dataframe tbody tr th {\n",
       "        vertical-align: top;\n",
       "    }\n",
       "\n",
       "    .dataframe thead th {\n",
       "        text-align: right;\n",
       "    }\n",
       "</style>\n",
       "<table border=\"1\" class=\"dataframe\">\n",
       "  <thead>\n",
       "    <tr style=\"text-align: right;\">\n",
       "      <th></th>\n",
       "      <th>value</th>\n",
       "    </tr>\n",
       "  </thead>\n",
       "  <tbody>\n",
       "    <tr>\n",
       "      <th>count</th>\n",
       "      <td>3653.000000</td>\n",
       "    </tr>\n",
       "    <tr>\n",
       "      <th>mean</th>\n",
       "      <td>0.395986</td>\n",
       "    </tr>\n",
       "    <tr>\n",
       "      <th>std</th>\n",
       "      <td>0.056465</td>\n",
       "    </tr>\n",
       "    <tr>\n",
       "      <th>min</th>\n",
       "      <td>0.000000</td>\n",
       "    </tr>\n",
       "    <tr>\n",
       "      <th>25%</th>\n",
       "      <td>0.387445</td>\n",
       "    </tr>\n",
       "    <tr>\n",
       "      <th>50%</th>\n",
       "      <td>0.395205</td>\n",
       "    </tr>\n",
       "    <tr>\n",
       "      <th>75%</th>\n",
       "      <td>0.402115</td>\n",
       "    </tr>\n",
       "    <tr>\n",
       "      <th>max</th>\n",
       "      <td>1.000000</td>\n",
       "    </tr>\n",
       "  </tbody>\n",
       "</table>\n",
       "</div>"
      ],
      "text/plain": [
       "             value\n",
       "count  3653.000000\n",
       "mean      0.395986\n",
       "std       0.056465\n",
       "min       0.000000\n",
       "25%       0.387445\n",
       "50%       0.395205\n",
       "75%       0.402115\n",
       "max       1.000000"
      ]
     },
     "execution_count": 32,
     "metadata": {},
     "output_type": "execute_result"
    }
   ],
   "source": [
    "df.describe()"
   ]
  },
  {
   "cell_type": "code",
   "execution_count": 33,
   "id": "e29dc531",
   "metadata": {},
   "outputs": [
    {
     "name": "stdout",
     "output_type": "stream",
     "text": [
      "Minimum value: 0.0\n",
      "Maximum value: 1.0\n"
     ]
    }
   ],
   "source": [
    "print('Minimum value:', df['value'].min())\n",
    "print('Maximum value:', df['value'].max())"
   ]
  },
  {
   "cell_type": "code",
   "execution_count": 35,
   "id": "9ec61298",
   "metadata": {},
   "outputs": [
    {
     "data": {
      "image/png": "[encoded data removed]",
      "text/plain": [
       "<Figure size 360x360 with 1 Axes>"
      ]
     },
     "metadata": {
      "needs_background": "light"
     },
     "output_type": "display_data"
    }
   ],
   "source": [
    "# check distribution\n",
    "\n",
    "import matplotlib.pyplot as plt\n",
    "import seaborn as sns\n",
    "ylim = (0, 230)\n",
    "sns.displot(df['value'],kde=True)\n",
    "plt.ylim(ylim)\n",
    "plt.show()"
   ]
  },
  {
   "cell_type": "code",
   "execution_count": 36,
   "id": "dca2fa9e",
   "metadata": {},
   "outputs": [],
   "source": [
    "df.to_csv('Normal_1.csv',index=False)"
   ]
  },
  {
   "cell_type": "code",
   "execution_count": null,
   "id": "987c52f8",
   "metadata": {},
   "outputs": [],
   "source": []
  }
 ],
 "metadata": {
  "kernelspec": {
   "display_name": "Python 3",
   "language": "python",
   "name": "python3"
  },
  "language_info": {
   "codemirror_mode": {
    "name": "ipython",
    "version": 3
   },
   "file_extension": ".py",
   "mimetype": "text/x-python",
   "name": "python",
   "nbconvert_exporter": "python",
   "pygments_lexer": "ipython3",
   "version": "3.8.3"
  }
 },
 "nbformat": 4,
 "nbformat_minor": 5
}
