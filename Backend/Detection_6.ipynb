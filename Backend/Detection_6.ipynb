{
 "cells": [
  {
   "cell_type": "code",
   "execution_count": 21,
   "id": "377e32d0",
   "metadata": {},
   "outputs": [],
   "source": [
    "import numpy as np \n",
    "import pandas as pd\n",
    "\n",
    "import matplotlib.pyplot as plt\n",
    "import seaborn as sns"
   ]
  },
  {
   "cell_type": "code",
   "execution_count": 22,
   "id": "8eadfab5",
   "metadata": {},
   "outputs": [],
   "source": [
    "df=pd.read_csv('Normal_6.csv')"
   ]
  },
  {
   "cell_type": "code",
   "execution_count": 23,
   "id": "6c2b4742",
   "metadata": {},
   "outputs": [
    {
     "data": {
      "text/html": [
       "<div>\n",
       "<style scoped>\n",
       "    .dataframe tbody tr th:only-of-type {\n",
       "        vertical-align: middle;\n",
       "    }\n",
       "\n",
       "    .dataframe tbody tr th {\n",
       "        vertical-align: top;\n",
       "    }\n",
       "\n",
       "    .dataframe thead th {\n",
       "        text-align: right;\n",
       "    }\n",
       "</style>\n",
       "<table border=\"1\" class=\"dataframe\">\n",
       "  <thead>\n",
       "    <tr style=\"text-align: right;\">\n",
       "      <th></th>\n",
       "      <th>Date</th>\n",
       "      <th>value</th>\n",
       "    </tr>\n",
       "  </thead>\n",
       "  <tbody>\n",
       "    <tr>\n",
       "      <th>383</th>\n",
       "      <td>2022-04-17</td>\n",
       "      <td>0.377713</td>\n",
       "    </tr>\n",
       "  </tbody>\n",
       "</table>\n",
       "</div>"
      ],
      "text/plain": [
       "           Date     value\n",
       "383  2022-04-17  0.377713"
      ]
     },
     "execution_count": 23,
     "metadata": {},
     "output_type": "execute_result"
    }
   ],
   "source": [
    "df.sample()"
   ]
  },
  {
   "cell_type": "code",
   "execution_count": 24,
   "id": "1d5e98a1",
   "metadata": {},
   "outputs": [
    {
     "name": "stdout",
     "output_type": "stream",
     "text": [
      "(642, 2)\n",
      "<class 'pandas.core.frame.DataFrame'>\n",
      "RangeIndex: 642 entries, 0 to 641\n",
      "Data columns (total 2 columns):\n",
      " #   Column  Non-Null Count  Dtype  \n",
      "---  ------  --------------  -----  \n",
      " 0   Date    642 non-null    object \n",
      " 1   value   642 non-null    float64\n",
      "dtypes: float64(1), object(1)\n",
      "memory usage: 10.2+ KB\n",
      "None\n"
     ]
    }
   ],
   "source": [
    "print(df.shape)\n",
    "print(df.info())"
   ]
  },
  {
   "cell_type": "markdown",
   "id": "e2bcf2c5",
   "metadata": {},
   "source": [
    "# Z Score Technique (Not really Practical)\n",
    "\n",
    "here we will do our testing on normally distributed data"
   ]
  },
  {
   "cell_type": "markdown",
   "id": "e26dcab3",
   "metadata": {},
   "source": [
    "##### our data.skew() != 0 so we can not do this one  (only if any portfolio gives 0 or very close to 0 then olny it should be used )"
   ]
  },
  {
   "cell_type": "markdown",
   "id": "3b0cbf91",
   "metadata": {},
   "source": [
    "###### Z score:-\n",
    "###### x'=(x-median)/std  \n",
    "so our outlier are \n",
    "#### < mean-3*std \n",
    "#### > mean+3*std"
   ]
  },
  {
   "cell_type": "code",
   "execution_count": 25,
   "id": "d3aff3e4",
   "metadata": {},
   "outputs": [
    {
     "data": {
      "image/png": "[encoded data removed]",
      "text/plain": [
       "<Figure size 360x360 with 1 Axes>"
      ]
     },
     "metadata": {
      "needs_background": "light"
     },
     "output_type": "display_data"
    }
   ],
   "source": [
    "ylim = (0, 230)\n",
    "sns.displot(df['value'],kde=True)\n",
    "plt.ylim(ylim)\n",
    "plt.figsize = (150, 8)\n",
    "plt.show()"
   ]
  },
  {
   "cell_type": "code",
   "execution_count": 26,
   "id": "226a1a0a",
   "metadata": {},
   "outputs": [
    {
     "data": {
      "text/html": [
       "<div>\n",
       "<style scoped>\n",
       "    .dataframe tbody tr th:only-of-type {\n",
       "        vertical-align: middle;\n",
       "    }\n",
       "\n",
       "    .dataframe tbody tr th {\n",
       "        vertical-align: top;\n",
       "    }\n",
       "\n",
       "    .dataframe thead th {\n",
       "        text-align: right;\n",
       "    }\n",
       "</style>\n",
       "<table border=\"1\" class=\"dataframe\">\n",
       "  <thead>\n",
       "    <tr style=\"text-align: right;\">\n",
       "      <th></th>\n",
       "      <th>value</th>\n",
       "    </tr>\n",
       "  </thead>\n",
       "  <tbody>\n",
       "    <tr>\n",
       "      <th>count</th>\n",
       "      <td>642.000000</td>\n",
       "    </tr>\n",
       "    <tr>\n",
       "      <th>mean</th>\n",
       "      <td>0.382136</td>\n",
       "    </tr>\n",
       "    <tr>\n",
       "      <th>std</th>\n",
       "      <td>0.096568</td>\n",
       "    </tr>\n",
       "    <tr>\n",
       "      <th>min</th>\n",
       "      <td>0.000000</td>\n",
       "    </tr>\n",
       "    <tr>\n",
       "      <th>25%</th>\n",
       "      <td>0.359799</td>\n",
       "    </tr>\n",
       "    <tr>\n",
       "      <th>50%</th>\n",
       "      <td>0.377713</td>\n",
       "    </tr>\n",
       "    <tr>\n",
       "      <th>75%</th>\n",
       "      <td>0.422342</td>\n",
       "    </tr>\n",
       "    <tr>\n",
       "      <th>max</th>\n",
       "      <td>1.000000</td>\n",
       "    </tr>\n",
       "  </tbody>\n",
       "</table>\n",
       "</div>"
      ],
      "text/plain": [
       "            value\n",
       "count  642.000000\n",
       "mean     0.382136\n",
       "std      0.096568\n",
       "min      0.000000\n",
       "25%      0.359799\n",
       "50%      0.377713\n",
       "75%      0.422342\n",
       "max      1.000000"
      ]
     },
     "execution_count": 26,
     "metadata": {},
     "output_type": "execute_result"
    }
   ],
   "source": [
    "df.describe()"
   ]
  },
  {
   "cell_type": "code",
   "execution_count": 27,
   "id": "13e9a8ad",
   "metadata": {},
   "outputs": [
    {
     "name": "stdout",
     "output_type": "stream",
     "text": [
      "Highest Allowed  0.6718406889701469\n",
      "Lowest Allowed  0.09243077481418577\n"
     ]
    }
   ],
   "source": [
    "print(\"Highest Allowed \",df['value'].mean()+3*df['value'].std())\n",
    "print(\"Lowest Allowed \",df['value'].mean()-3*df['value'].std())"
   ]
  },
  {
   "cell_type": "code",
   "execution_count": 28,
   "id": "82c236d0",
   "metadata": {},
   "outputs": [],
   "source": [
    "df_out_z=df[(df['value']<0.09243077481418577) | (df['value']>0.6718406889701469)]"
   ]
  },
  {
   "cell_type": "code",
   "execution_count": 29,
   "id": "aae76a09",
   "metadata": {},
   "outputs": [
    {
     "data": {
      "text/html": [
       "<div>\n",
       "<style scoped>\n",
       "    .dataframe tbody tr th:only-of-type {\n",
       "        vertical-align: middle;\n",
       "    }\n",
       "\n",
       "    .dataframe tbody tr th {\n",
       "        vertical-align: top;\n",
       "    }\n",
       "\n",
       "    .dataframe thead th {\n",
       "        text-align: right;\n",
       "    }\n",
       "</style>\n",
       "<table border=\"1\" class=\"dataframe\">\n",
       "  <thead>\n",
       "    <tr style=\"text-align: right;\">\n",
       "      <th></th>\n",
       "      <th>Date</th>\n",
       "      <th>value</th>\n",
       "    </tr>\n",
       "  </thead>\n",
       "  <tbody>\n",
       "    <tr>\n",
       "      <th>258</th>\n",
       "      <td>2021-12-13</td>\n",
       "      <td>0.674423</td>\n",
       "    </tr>\n",
       "    <tr>\n",
       "      <th>300</th>\n",
       "      <td>2022-01-24</td>\n",
       "      <td>0.031322</td>\n",
       "    </tr>\n",
       "    <tr>\n",
       "      <th>321</th>\n",
       "      <td>2022-02-14</td>\n",
       "      <td>0.000000</td>\n",
       "    </tr>\n",
       "    <tr>\n",
       "      <th>331</th>\n",
       "      <td>2022-02-24</td>\n",
       "      <td>0.016514</td>\n",
       "    </tr>\n",
       "    <tr>\n",
       "      <th>443</th>\n",
       "      <td>2022-06-16</td>\n",
       "      <td>0.065033</td>\n",
       "    </tr>\n",
       "    <tr>\n",
       "      <th>447</th>\n",
       "      <td>2022-06-20</td>\n",
       "      <td>0.081752</td>\n",
       "    </tr>\n",
       "    <tr>\n",
       "      <th>535</th>\n",
       "      <td>2022-09-16</td>\n",
       "      <td>0.071721</td>\n",
       "    </tr>\n",
       "    <tr>\n",
       "      <th>538</th>\n",
       "      <td>2022-09-19</td>\n",
       "      <td>0.085574</td>\n",
       "    </tr>\n",
       "    <tr>\n",
       "      <th>545</th>\n",
       "      <td>2022-09-26</td>\n",
       "      <td>0.068002</td>\n",
       "    </tr>\n",
       "    <tr>\n",
       "      <th>591</th>\n",
       "      <td>2022-11-11</td>\n",
       "      <td>1.000000</td>\n",
       "    </tr>\n",
       "    <tr>\n",
       "      <th>619</th>\n",
       "      <td>2022-12-09</td>\n",
       "      <td>0.063395</td>\n",
       "    </tr>\n",
       "    <tr>\n",
       "      <th>633</th>\n",
       "      <td>2022-12-23</td>\n",
       "      <td>0.086666</td>\n",
       "    </tr>\n",
       "  </tbody>\n",
       "</table>\n",
       "</div>"
      ],
      "text/plain": [
       "           Date     value\n",
       "258  2021-12-13  0.674423\n",
       "300  2022-01-24  0.031322\n",
       "321  2022-02-14  0.000000\n",
       "331  2022-02-24  0.016514\n",
       "443  2022-06-16  0.065033\n",
       "447  2022-06-20  0.081752\n",
       "535  2022-09-16  0.071721\n",
       "538  2022-09-19  0.085574\n",
       "545  2022-09-26  0.068002\n",
       "591  2022-11-11  1.000000\n",
       "619  2022-12-09  0.063395\n",
       "633  2022-12-23  0.086666"
      ]
     },
     "execution_count": 29,
     "metadata": {},
     "output_type": "execute_result"
    }
   ],
   "source": [
    "df_out_z"
   ]
  },
  {
   "cell_type": "markdown",
   "id": "968bdfdb",
   "metadata": {},
   "source": [
    "# IQR and Boxplot (Best for this project to me)\n",
    "\n",
    "if data is skewed"
   ]
  },
  {
   "cell_type": "markdown",
   "id": "2447ba79",
   "metadata": {},
   "source": [
    "irq= Interquattile range(50% distribution)\n",
    "so outlier are\n",
    "##### <[min=25percentile -1.5*IQR]\n",
    "##### >[max75percentile +1.5*IQR]"
   ]
  },
  {
   "cell_type": "code",
   "execution_count": 30,
   "id": "e21112f9",
   "metadata": {},
   "outputs": [
    {
     "data": {
      "text/plain": [
       "-0.018292036226028218"
      ]
     },
     "execution_count": 30,
     "metadata": {},
     "output_type": "execute_result"
    }
   ],
   "source": [
    "df['value'].skew()"
   ]
  },
  {
   "cell_type": "markdown",
   "id": "ddde625d",
   "metadata": {},
   "source": [
    "data is rightskewed"
   ]
  },
  {
   "cell_type": "code",
   "execution_count": 31,
   "id": "f68ca453",
   "metadata": {},
   "outputs": [
    {
     "data": {
      "text/plain": [
       "count    642.000000\n",
       "mean       0.382136\n",
       "std        0.096568\n",
       "min        0.000000\n",
       "25%        0.359799\n",
       "50%        0.377713\n",
       "75%        0.422342\n",
       "max        1.000000\n",
       "Name: value, dtype: float64"
      ]
     },
     "execution_count": 31,
     "metadata": {},
     "output_type": "execute_result"
    }
   ],
   "source": [
    "df['value'].describe()"
   ]
  },
  {
   "cell_type": "code",
   "execution_count": 32,
   "id": "d9dd695f",
   "metadata": {},
   "outputs": [
    {
     "name": "stdout",
     "output_type": "stream",
     "text": [
      "25 percentile=  0.359799267288072\n",
      "75 percentile=  0.42234201295711954\n"
     ]
    }
   ],
   "source": [
    "p25=df['value'].quantile(0.25)\n",
    "p75=df['value'].quantile(0.75)\n",
    "\n",
    "print(\"25 percentile= \",p25)\n",
    "print(\"75 percentile= \",p75)"
   ]
  },
  {
   "cell_type": "code",
   "execution_count": 33,
   "id": "ad6a9e1c",
   "metadata": {},
   "outputs": [
    {
     "data": {
      "text/plain": [
       "0.06254274566904755"
      ]
     },
     "execution_count": 33,
     "metadata": {},
     "output_type": "execute_result"
    }
   ],
   "source": [
    "iqr=p75-p25\n",
    "iqr"
   ]
  },
  {
   "cell_type": "code",
   "execution_count": 34,
   "id": "d3e2e3d6",
   "metadata": {},
   "outputs": [
    {
     "name": "stdout",
     "output_type": "stream",
     "text": [
      "Highest Allowed  0.5161561314606908\n",
      "Lowest Allowed  0.26598514878450064\n"
     ]
    }
   ],
   "source": [
    "print(\"Highest Allowed \",p75+1.5*iqr)\n",
    "print(\"Lowest Allowed \",p25-1.5*iqr)"
   ]
  },
  {
   "cell_type": "code",
   "execution_count": 36,
   "id": "ea9c7a6e",
   "metadata": {},
   "outputs": [],
   "source": [
    "df_out_i=df[(df['value']<0.26598514878450064) | (df['value']>0.5161561314606908)]"
   ]
  },
  {
   "cell_type": "code",
   "execution_count": 37,
   "id": "ea6f86a2",
   "metadata": {},
   "outputs": [
    {
     "data": {
      "text/html": [
       "<div>\n",
       "<style scoped>\n",
       "    .dataframe tbody tr th:only-of-type {\n",
       "        vertical-align: middle;\n",
       "    }\n",
       "\n",
       "    .dataframe tbody tr th {\n",
       "        vertical-align: top;\n",
       "    }\n",
       "\n",
       "    .dataframe thead th {\n",
       "        text-align: right;\n",
       "    }\n",
       "</style>\n",
       "<table border=\"1\" class=\"dataframe\">\n",
       "  <thead>\n",
       "    <tr style=\"text-align: right;\">\n",
       "      <th></th>\n",
       "      <th>Date</th>\n",
       "      <th>value</th>\n",
       "    </tr>\n",
       "  </thead>\n",
       "  <tbody>\n",
       "    <tr>\n",
       "      <th>2</th>\n",
       "      <td>2021-04-01</td>\n",
       "      <td>0.517129</td>\n",
       "    </tr>\n",
       "    <tr>\n",
       "      <th>13</th>\n",
       "      <td>2021-04-12</td>\n",
       "      <td>0.188617</td>\n",
       "    </tr>\n",
       "    <tr>\n",
       "      <th>21</th>\n",
       "      <td>2021-04-20</td>\n",
       "      <td>0.525522</td>\n",
       "    </tr>\n",
       "    <tr>\n",
       "      <th>34</th>\n",
       "      <td>2021-05-03</td>\n",
       "      <td>0.656954</td>\n",
       "    </tr>\n",
       "    <tr>\n",
       "      <th>35</th>\n",
       "      <td>2021-05-04</td>\n",
       "      <td>0.249625</td>\n",
       "    </tr>\n",
       "    <tr>\n",
       "      <th>...</th>\n",
       "      <td>...</td>\n",
       "      <td>...</td>\n",
       "    </tr>\n",
       "    <tr>\n",
       "      <th>625</th>\n",
       "      <td>2022-12-15</td>\n",
       "      <td>0.220691</td>\n",
       "    </tr>\n",
       "    <tr>\n",
       "      <th>630</th>\n",
       "      <td>2022-12-20</td>\n",
       "      <td>0.257404</td>\n",
       "    </tr>\n",
       "    <tr>\n",
       "      <th>631</th>\n",
       "      <td>2022-12-21</td>\n",
       "      <td>0.113894</td>\n",
       "    </tr>\n",
       "    <tr>\n",
       "      <th>633</th>\n",
       "      <td>2022-12-23</td>\n",
       "      <td>0.086666</td>\n",
       "    </tr>\n",
       "    <tr>\n",
       "      <th>636</th>\n",
       "      <td>2022-12-26</td>\n",
       "      <td>0.543401</td>\n",
       "    </tr>\n",
       "  </tbody>\n",
       "</table>\n",
       "<p>108 rows × 2 columns</p>\n",
       "</div>"
      ],
      "text/plain": [
       "           Date     value\n",
       "2    2021-04-01  0.517129\n",
       "13   2021-04-12  0.188617\n",
       "21   2021-04-20  0.525522\n",
       "34   2021-05-03  0.656954\n",
       "35   2021-05-04  0.249625\n",
       "..          ...       ...\n",
       "625  2022-12-15  0.220691\n",
       "630  2022-12-20  0.257404\n",
       "631  2022-12-21  0.113894\n",
       "633  2022-12-23  0.086666\n",
       "636  2022-12-26  0.543401\n",
       "\n",
       "[108 rows x 2 columns]"
      ]
     },
     "execution_count": 37,
     "metadata": {},
     "output_type": "execute_result"
    }
   ],
   "source": [
    "df_out_i"
   ]
  },
  {
   "cell_type": "markdown",
   "id": "4ca3c9a8",
   "metadata": {},
   "source": [
    "# Percentiles (Not My recommendation)\n",
    "any data"
   ]
  },
  {
   "cell_type": "markdown",
   "id": "ce9a4d1c",
   "metadata": {},
   "source": [
    "##### we can't do this method because we can't decide the threshoid value as it is totally experimental"
   ]
  },
  {
   "cell_type": "markdown",
   "id": "6fd1abc0",
   "metadata": {},
   "source": [
    "we have to calculate `threshold` \n",
    "######  Threshold:\n",
    "the percentile range where the normal data without outliers live"
   ]
  },
  {
   "cell_type": "code",
   "execution_count": 38,
   "id": "7df797f7",
   "metadata": {},
   "outputs": [
    {
     "data": {
      "text/plain": [
       "count    642.000000\n",
       "mean       0.382136\n",
       "std        0.096568\n",
       "min        0.000000\n",
       "25%        0.359799\n",
       "50%        0.377713\n",
       "75%        0.422342\n",
       "max        1.000000\n",
       "Name: value, dtype: float64"
      ]
     },
     "execution_count": 38,
     "metadata": {},
     "output_type": "execute_result"
    }
   ],
   "source": [
    "df['value'].describe()"
   ]
  },
  {
   "cell_type": "code",
   "execution_count": 39,
   "id": "b1e0f1fb",
   "metadata": {},
   "outputs": [
    {
     "name": "stdout",
     "output_type": "stream",
     "text": [
      "Highest Allowed  0.6048969239468778\n",
      "Lowest Allowed  0.12818059891800612\n"
     ]
    }
   ],
   "source": [
    "# let us consider 2% is the limit\n",
    "\n",
    "print(\"Highest Allowed \",df['value'].quantile(0.98)) #(100-2/100)\n",
    "print(\"Lowest Allowed \",df['value'].quantile(0.02))  #(2/100)"
   ]
  },
  {
   "cell_type": "code",
   "execution_count": 40,
   "id": "89b8a535",
   "metadata": {},
   "outputs": [],
   "source": [
    "df_out_p=df[(df['value']<0.12818059891800612) | (df['value']>0.6048969239468778)]"
   ]
  },
  {
   "cell_type": "code",
   "execution_count": 41,
   "id": "c149a2e6",
   "metadata": {},
   "outputs": [
    {
     "data": {
      "text/html": [
       "<div>\n",
       "<style scoped>\n",
       "    .dataframe tbody tr th:only-of-type {\n",
       "        vertical-align: middle;\n",
       "    }\n",
       "\n",
       "    .dataframe tbody tr th {\n",
       "        vertical-align: top;\n",
       "    }\n",
       "\n",
       "    .dataframe thead th {\n",
       "        text-align: right;\n",
       "    }\n",
       "</style>\n",
       "<table border=\"1\" class=\"dataframe\">\n",
       "  <thead>\n",
       "    <tr style=\"text-align: right;\">\n",
       "      <th></th>\n",
       "      <th>Date</th>\n",
       "      <th>value</th>\n",
       "    </tr>\n",
       "  </thead>\n",
       "  <tbody>\n",
       "    <tr>\n",
       "      <th>34</th>\n",
       "      <td>2021-05-03</td>\n",
       "      <td>0.656954</td>\n",
       "    </tr>\n",
       "    <tr>\n",
       "      <th>170</th>\n",
       "      <td>2021-09-16</td>\n",
       "      <td>0.605568</td>\n",
       "    </tr>\n",
       "    <tr>\n",
       "      <th>171</th>\n",
       "      <td>2021-09-17</td>\n",
       "      <td>0.666985</td>\n",
       "    </tr>\n",
       "    <tr>\n",
       "      <th>231</th>\n",
       "      <td>2021-11-16</td>\n",
       "      <td>0.615463</td>\n",
       "    </tr>\n",
       "    <tr>\n",
       "      <th>237</th>\n",
       "      <td>2021-11-22</td>\n",
       "      <td>0.095674</td>\n",
       "    </tr>\n",
       "    <tr>\n",
       "      <th>258</th>\n",
       "      <td>2021-12-13</td>\n",
       "      <td>0.674423</td>\n",
       "    </tr>\n",
       "    <tr>\n",
       "      <th>280</th>\n",
       "      <td>2022-01-04</td>\n",
       "      <td>0.647536</td>\n",
       "    </tr>\n",
       "    <tr>\n",
       "      <th>300</th>\n",
       "      <td>2022-01-24</td>\n",
       "      <td>0.031322</td>\n",
       "    </tr>\n",
       "    <tr>\n",
       "      <th>321</th>\n",
       "      <td>2022-02-14</td>\n",
       "      <td>0.000000</td>\n",
       "    </tr>\n",
       "    <tr>\n",
       "      <th>331</th>\n",
       "      <td>2022-02-24</td>\n",
       "      <td>0.016514</td>\n",
       "    </tr>\n",
       "    <tr>\n",
       "      <th>332</th>\n",
       "      <td>2022-02-25</td>\n",
       "      <td>0.643920</td>\n",
       "    </tr>\n",
       "    <tr>\n",
       "      <th>365</th>\n",
       "      <td>2022-03-30</td>\n",
       "      <td>0.626177</td>\n",
       "    </tr>\n",
       "    <tr>\n",
       "      <th>408</th>\n",
       "      <td>2022-05-12</td>\n",
       "      <td>0.122697</td>\n",
       "    </tr>\n",
       "    <tr>\n",
       "      <th>443</th>\n",
       "      <td>2022-06-16</td>\n",
       "      <td>0.065033</td>\n",
       "    </tr>\n",
       "    <tr>\n",
       "      <th>447</th>\n",
       "      <td>2022-06-20</td>\n",
       "      <td>0.081752</td>\n",
       "    </tr>\n",
       "    <tr>\n",
       "      <th>448</th>\n",
       "      <td>2022-06-21</td>\n",
       "      <td>0.629521</td>\n",
       "    </tr>\n",
       "    <tr>\n",
       "      <th>486</th>\n",
       "      <td>2022-07-29</td>\n",
       "      <td>0.636823</td>\n",
       "    </tr>\n",
       "    <tr>\n",
       "      <th>500</th>\n",
       "      <td>2022-08-12</td>\n",
       "      <td>0.659069</td>\n",
       "    </tr>\n",
       "    <tr>\n",
       "      <th>504</th>\n",
       "      <td>2022-08-16</td>\n",
       "      <td>0.638051</td>\n",
       "    </tr>\n",
       "    <tr>\n",
       "      <th>535</th>\n",
       "      <td>2022-09-16</td>\n",
       "      <td>0.071721</td>\n",
       "    </tr>\n",
       "    <tr>\n",
       "      <th>538</th>\n",
       "      <td>2022-09-19</td>\n",
       "      <td>0.085574</td>\n",
       "    </tr>\n",
       "    <tr>\n",
       "      <th>545</th>\n",
       "      <td>2022-09-26</td>\n",
       "      <td>0.068002</td>\n",
       "    </tr>\n",
       "    <tr>\n",
       "      <th>591</th>\n",
       "      <td>2022-11-11</td>\n",
       "      <td>1.000000</td>\n",
       "    </tr>\n",
       "    <tr>\n",
       "      <th>619</th>\n",
       "      <td>2022-12-09</td>\n",
       "      <td>0.063395</td>\n",
       "    </tr>\n",
       "    <tr>\n",
       "      <th>631</th>\n",
       "      <td>2022-12-21</td>\n",
       "      <td>0.113894</td>\n",
       "    </tr>\n",
       "    <tr>\n",
       "      <th>633</th>\n",
       "      <td>2022-12-23</td>\n",
       "      <td>0.086666</td>\n",
       "    </tr>\n",
       "  </tbody>\n",
       "</table>\n",
       "</div>"
      ],
      "text/plain": [
       "           Date     value\n",
       "34   2021-05-03  0.656954\n",
       "170  2021-09-16  0.605568\n",
       "171  2021-09-17  0.666985\n",
       "231  2021-11-16  0.615463\n",
       "237  2021-11-22  0.095674\n",
       "258  2021-12-13  0.674423\n",
       "280  2022-01-04  0.647536\n",
       "300  2022-01-24  0.031322\n",
       "321  2022-02-14  0.000000\n",
       "331  2022-02-24  0.016514\n",
       "332  2022-02-25  0.643920\n",
       "365  2022-03-30  0.626177\n",
       "408  2022-05-12  0.122697\n",
       "443  2022-06-16  0.065033\n",
       "447  2022-06-20  0.081752\n",
       "448  2022-06-21  0.629521\n",
       "486  2022-07-29  0.636823\n",
       "500  2022-08-12  0.659069\n",
       "504  2022-08-16  0.638051\n",
       "535  2022-09-16  0.071721\n",
       "538  2022-09-19  0.085574\n",
       "545  2022-09-26  0.068002\n",
       "591  2022-11-11  1.000000\n",
       "619  2022-12-09  0.063395\n",
       "631  2022-12-21  0.113894\n",
       "633  2022-12-23  0.086666"
      ]
     },
     "execution_count": 41,
     "metadata": {},
     "output_type": "execute_result"
    }
   ],
   "source": [
    "df_out_p"
   ]
  },
  {
   "cell_type": "markdown",
   "id": "5185d2e9",
   "metadata": {},
   "source": [
    "To remove this outier we will do\n",
    "###  Capping\n",
    "ie,\n",
    "`if(data>max) data=max`\n",
    "`if(data<min) data=min`"
   ]
  },
  {
   "cell_type": "code",
   "execution_count": null,
   "id": "b3a43c2d",
   "metadata": {},
   "outputs": [],
   "source": []
  }
 ],
 "metadata": {
  "kernelspec": {
   "display_name": "Python 3",
   "language": "python",
   "name": "python3"
  },
  "language_info": {
   "codemirror_mode": {
    "name": "ipython",
    "version": 3
   },
   "file_extension": ".py",
   "mimetype": "text/x-python",
   "name": "python",
   "nbconvert_exporter": "python",
   "pygments_lexer": "ipython3",
   "version": "3.8.3"
  }
 },
 "nbformat": 4,
 "nbformat_minor": 5
}
