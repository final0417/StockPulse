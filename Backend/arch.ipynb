{
 "cells": [
  {
   "cell_type": "code",
   "execution_count": 1,
   "id": "167a610e",
   "metadata": {},
   "outputs": [],
   "source": [
    "import numpy as np\n",
    "import pandas as pd"
   ]
  },
  {
   "cell_type": "code",
   "execution_count": 21,
   "id": "dc8662d0",
   "metadata": {},
   "outputs": [],
   "source": [
    "import warnings\n",
    "warnings.filterwarnings('ignore')"
   ]
  },
  {
   "cell_type": "code",
   "execution_count": 2,
   "id": "6a2e0180",
   "metadata": {},
   "outputs": [],
   "source": [
    "df=pd.read_csv('Stationarity_1.csv')"
   ]
  },
  {
   "cell_type": "code",
   "execution_count": 3,
   "id": "6c6803ca",
   "metadata": {},
   "outputs": [
    {
     "data": {
      "text/html": [
       "<div>\n",
       "<style scoped>\n",
       "    .dataframe tbody tr th:only-of-type {\n",
       "        vertical-align: middle;\n",
       "    }\n",
       "\n",
       "    .dataframe tbody tr th {\n",
       "        vertical-align: top;\n",
       "    }\n",
       "\n",
       "    .dataframe thead th {\n",
       "        text-align: right;\n",
       "    }\n",
       "</style>\n",
       "<table border=\"1\" class=\"dataframe\">\n",
       "  <thead>\n",
       "    <tr style=\"text-align: right;\">\n",
       "      <th></th>\n",
       "      <th>Date</th>\n",
       "      <th>Original</th>\n",
       "      <th>Value</th>\n",
       "    </tr>\n",
       "  </thead>\n",
       "  <tbody>\n",
       "    <tr>\n",
       "      <th>0</th>\n",
       "      <td>2019-05-09</td>\n",
       "      <td>39.598750</td>\n",
       "      <td>0.000000</td>\n",
       "    </tr>\n",
       "    <tr>\n",
       "      <th>1</th>\n",
       "      <td>2019-05-10</td>\n",
       "      <td>39.092500</td>\n",
       "      <td>-0.506250</td>\n",
       "    </tr>\n",
       "    <tr>\n",
       "      <th>2</th>\n",
       "      <td>2019-05-11</td>\n",
       "      <td>39.092500</td>\n",
       "      <td>0.000000</td>\n",
       "    </tr>\n",
       "    <tr>\n",
       "      <th>3</th>\n",
       "      <td>2019-05-12</td>\n",
       "      <td>39.092500</td>\n",
       "      <td>0.000000</td>\n",
       "    </tr>\n",
       "    <tr>\n",
       "      <th>4</th>\n",
       "      <td>2019-05-13</td>\n",
       "      <td>38.293751</td>\n",
       "      <td>-0.798749</td>\n",
       "    </tr>\n",
       "  </tbody>\n",
       "</table>\n",
       "</div>"
      ],
      "text/plain": [
       "         Date   Original     Value\n",
       "0  2019-05-09  39.598750  0.000000\n",
       "1  2019-05-10  39.092500 -0.506250\n",
       "2  2019-05-11  39.092500  0.000000\n",
       "3  2019-05-12  39.092500  0.000000\n",
       "4  2019-05-13  38.293751 -0.798749"
      ]
     },
     "execution_count": 3,
     "metadata": {},
     "output_type": "execute_result"
    }
   ],
   "source": [
    "df.head()"
   ]
  },
  {
   "cell_type": "code",
   "execution_count": 4,
   "id": "b13662d9",
   "metadata": {},
   "outputs": [
    {
     "data": {
      "image/png": "[encoded data removed]",
      "text/plain": [
       "<Figure size 432x288 with 1 Axes>"
      ]
     },
     "metadata": {
      "needs_background": "light"
     },
     "output_type": "display_data"
    }
   ],
   "source": [
    "import matplotlib.pyplot as plt\n",
    "plt.plot(df['Value'])\n",
    "plt.show()"
   ]
  },
  {
   "cell_type": "code",
   "execution_count": 5,
   "id": "32fadfe4",
   "metadata": {},
   "outputs": [
    {
     "name": "stdout",
     "output_type": "stream",
     "text": [
      "Kurtosis: 7.904088446796596\n"
     ]
    }
   ],
   "source": [
    "from scipy.stats import kurtosis\n",
    "kurt = kurtosis(df['Value'], fisher=True)\n",
    "print(\"Kurtosis:\", kurt)"
   ]
  },
  {
   "cell_type": "code",
   "execution_count": 6,
   "id": "4ae40a0b",
   "metadata": {},
   "outputs": [],
   "source": [
    "from statsmodels.graphics.tsaplots import plot_acf, plot_pacf"
   ]
  },
  {
   "cell_type": "code",
   "execution_count": 7,
   "id": "e81879c3",
   "metadata": {},
   "outputs": [
    {
     "data": {
      "image/png": "[encoded data removed]",
      "text/plain": [
       "<Figure size 432x288 with 1 Axes>"
      ]
     },
     "metadata": {
      "needs_background": "light"
     },
     "output_type": "display_data"
    }
   ],
   "source": [
    "plot_pacf(np.array(df['Value'])**2,method='ywm')\n",
    "plt.show()"
   ]
  },
  {
   "cell_type": "markdown",
   "id": "e33e3b78",
   "metadata": {},
   "source": [
    "garch(2,2) nebo"
   ]
  },
  {
   "cell_type": "code",
   "execution_count": 8,
   "id": "9c28c37b",
   "metadata": {},
   "outputs": [],
   "source": [
    "from arch import arch_model"
   ]
  },
  {
   "cell_type": "code",
   "execution_count": 17,
   "id": "2c186682",
   "metadata": {},
   "outputs": [],
   "source": [
    "model=arch_model(np.array(df['Value']),p=2,q=2)"
   ]
  },
  {
   "cell_type": "code",
   "execution_count": 18,
   "id": "62e9ff97",
   "metadata": {},
   "outputs": [
    {
     "name": "stdout",
     "output_type": "stream",
     "text": [
      "Iteration:      1,   Func. Count:      8,   Neg. LLF: 10254.324930531184\n",
      "Iteration:      2,   Func. Count:     19,   Neg. LLF: 251139.33627761662\n",
      "Iteration:      3,   Func. Count:     28,   Neg. LLF: 1322.683651700855\n",
      "Iteration:      4,   Func. Count:     38,   Neg. LLF: 1290.9201382191936\n",
      "Iteration:      5,   Func. Count:     47,   Neg. LLF: 1371.268805972703\n",
      "Iteration:      6,   Func. Count:     56,   Neg. LLF: 1200.2434883675173\n",
      "Iteration:      7,   Func. Count:     64,   Neg. LLF: 1200.2553085490426\n",
      "Iteration:      8,   Func. Count:     72,   Neg. LLF: 1199.9900192872037\n",
      "Iteration:      9,   Func. Count:     80,   Neg. LLF: 1196.0584460714228\n",
      "Iteration:     10,   Func. Count:     88,   Neg. LLF: 1192.2993311435284\n",
      "Iteration:     11,   Func. Count:     96,   Neg. LLF: 1191.9501942398924\n",
      "Iteration:     12,   Func. Count:    104,   Neg. LLF: 1191.6996697606353\n",
      "Iteration:     13,   Func. Count:    112,   Neg. LLF: 1192.3467401626824\n",
      "Iteration:     14,   Func. Count:    120,   Neg. LLF: 1191.6495781889898\n",
      "Iteration:     15,   Func. Count:    127,   Neg. LLF: 1191.6495725318712\n",
      "Iteration:     16,   Func. Count:    133,   Neg. LLF: 1191.6495725317034\n",
      "Optimization terminated successfully    (Exit mode 0)\n",
      "            Current function value: 1191.6495725318712\n",
      "            Iterations: 16\n",
      "            Function evaluations: 133\n",
      "            Gradient evaluations: 16\n"
     ]
    }
   ],
   "source": [
    "model_fit = model.fit()"
   ]
  },
  {
   "cell_type": "code",
   "execution_count": 19,
   "id": "c8d625ce",
   "metadata": {},
   "outputs": [
    {
     "data": {
      "text/html": [
       "<table class=\"simpletable\">\n",
       "<caption>Constant Mean - GARCH Model Results</caption>\n",
       "<tr>\n",
       "  <th>Dep. Variable:</th>          <td>y</td>         <th>  R-squared:         </th>  <td>   0.000</td> \n",
       "</tr>\n",
       "<tr>\n",
       "  <th>Mean Model:</th>       <td>Constant Mean</td>   <th>  Adj. R-squared:    </th>  <td>   0.000</td> \n",
       "</tr>\n",
       "<tr>\n",
       "  <th>Vol Model:</th>            <td>GARCH</td>       <th>  Log-Likelihood:    </th> <td>  -1191.65</td>\n",
       "</tr>\n",
       "<tr>\n",
       "  <th>Distribution:</th>        <td>Normal</td>       <th>  AIC:               </th> <td>   2395.30</td>\n",
       "</tr>\n",
       "<tr>\n",
       "  <th>Method:</th>        <td>Maximum Likelihood</td> <th>  BIC:               </th> <td>   2426.47</td>\n",
       "</tr>\n",
       "<tr>\n",
       "  <th></th>                        <td></td>          <th>  No. Observations:  </th>    <td>1333</td>   \n",
       "</tr>\n",
       "<tr>\n",
       "  <th>Date:</th>           <td>Sat, Jul 01 2023</td>  <th>  Df Residuals:      </th>    <td>1332</td>   \n",
       "</tr>\n",
       "<tr>\n",
       "  <th>Time:</th>               <td>12:28:13</td>      <th>  Df Model:          </th>      <td>1</td>    \n",
       "</tr>\n",
       "</table>\n",
       "<table class=\"simpletable\">\n",
       "<caption>Mean Model</caption>\n",
       "<tr>\n",
       "   <td></td>     <th>coef</th>     <th>std err</th>      <th>t</th>       <th>P>|t|</th>      <th>95.0% Conf. Int.</th>   \n",
       "</tr>\n",
       "<tr>\n",
       "  <th>mu</th> <td>    0.0287</td> <td>1.526e-02</td> <td>    1.878</td> <td>6.042e-02</td> <td>[-1.255e-03,5.856e-02]</td>\n",
       "</tr>\n",
       "</table>\n",
       "<table class=\"simpletable\">\n",
       "<caption>Volatility Model</caption>\n",
       "<tr>\n",
       "      <td></td>        <th>coef</th>     <th>std err</th>      <th>t</th>       <th>P>|t|</th>     <th>95.0% Conf. Int.</th>  \n",
       "</tr>\n",
       "<tr>\n",
       "  <th>omega</th>    <td>    0.0604</td> <td>2.487e-02</td> <td>    2.428</td> <td>1.517e-02</td>  <td>[1.165e-02,  0.109]</td>\n",
       "</tr>\n",
       "<tr>\n",
       "  <th>alpha[1]</th> <td>    0.1554</td> <td>4.682e-02</td> <td>    3.320</td> <td>9.009e-04</td>  <td>[6.367e-02,  0.247]</td>\n",
       "</tr>\n",
       "<tr>\n",
       "  <th>alpha[2]</th> <td>5.5885e-03</td> <td>5.029e-02</td> <td>    0.111</td> <td>    0.912</td> <td>[-9.297e-02,  0.104]</td>\n",
       "</tr>\n",
       "<tr>\n",
       "  <th>beta[1]</th>  <td>    0.1195</td> <td>8.711e-02</td> <td>    1.372</td> <td>    0.170</td> <td>[-5.120e-02,  0.290]</td>\n",
       "</tr>\n",
       "<tr>\n",
       "  <th>beta[2]</th>  <td>    0.5722</td> <td>5.461e-02</td> <td>   10.477</td> <td>1.097e-25</td>   <td>[  0.465,  0.679]</td> \n",
       "</tr>\n",
       "</table><br/><br/>Covariance estimator: robust"
      ],
      "text/plain": [
       "<class 'statsmodels.iolib.summary.Summary'>\n",
       "\"\"\"\n",
       "                     Constant Mean - GARCH Model Results                      \n",
       "==============================================================================\n",
       "Dep. Variable:                      y   R-squared:                       0.000\n",
       "Mean Model:             Constant Mean   Adj. R-squared:                  0.000\n",
       "Vol Model:                      GARCH   Log-Likelihood:               -1191.65\n",
       "Distribution:                  Normal   AIC:                           2395.30\n",
       "Method:            Maximum Likelihood   BIC:                           2426.47\n",
       "                                        No. Observations:                 1333\n",
       "Date:                Sat, Jul 01 2023   Df Residuals:                     1332\n",
       "Time:                        12:28:13   Df Model:                            1\n",
       "                                  Mean Model                                 \n",
       "=============================================================================\n",
       "                 coef    std err          t      P>|t|       95.0% Conf. Int.\n",
       "-----------------------------------------------------------------------------\n",
       "mu             0.0287  1.526e-02      1.878  6.042e-02 [-1.255e-03,5.856e-02]\n",
       "                              Volatility Model                             \n",
       "===========================================================================\n",
       "                 coef    std err          t      P>|t|     95.0% Conf. Int.\n",
       "---------------------------------------------------------------------------\n",
       "omega          0.0604  2.487e-02      2.428  1.517e-02  [1.165e-02,  0.109]\n",
       "alpha[1]       0.1554  4.682e-02      3.320  9.009e-04  [6.367e-02,  0.247]\n",
       "alpha[2]   5.5885e-03  5.029e-02      0.111      0.912 [-9.297e-02,  0.104]\n",
       "beta[1]        0.1195  8.711e-02      1.372      0.170 [-5.120e-02,  0.290]\n",
       "beta[2]        0.5722  5.461e-02     10.477  1.097e-25    [  0.465,  0.679]\n",
       "===========================================================================\n",
       "\n",
       "Covariance estimator: robust\n",
       "\"\"\""
      ]
     },
     "execution_count": 19,
     "metadata": {},
     "output_type": "execute_result"
    }
   ],
   "source": [
    "model_fit.summary()"
   ]
  },
  {
   "cell_type": "markdown",
   "id": "3d5f5cc9",
   "metadata": {},
   "source": [
    "Try GARCH(2,0) =ARCH(2)"
   ]
  },
  {
   "cell_type": "code",
   "execution_count": 22,
   "id": "5a6bed08",
   "metadata": {},
   "outputs": [],
   "source": [
    "rolling_predictions = []\n",
    "test_size = 365\n",
    "\n",
    "for i in range(test_size):\n",
    "    train = np.array(df['Value'])[:-(test_size-i)]\n",
    "    model = arch_model(train, p=3, q=0)\n",
    "    model_fit = model.fit(disp='off')\n",
    "    pred = model_fit.forecast(horizon=1)\n",
    "    rolling_predictions.append(np.sqrt(pred.variance.values[-1,:][0]))"
   ]
  },
  {
   "cell_type": "code",
   "execution_count": 24,
   "id": "3a955aa4",
   "metadata": {},
   "outputs": [],
   "source": [
    "rolling_predictions = pd.Series(rolling_predictions, index=df['Value'].index[-365:])"
   ]
  },
  {
   "cell_type": "code",
   "execution_count": 26,
   "id": "1e23126f",
   "metadata": {},
   "outputs": [
    {
     "data": {
      "text/plain": [
       "<matplotlib.legend.Legend at 0x1e2e0895640>"
      ]
     },
     "execution_count": 26,
     "metadata": {},
     "output_type": "execute_result"
    },
    {
     "data": {
      "image/png": "[encoded data removed]",
      "text/plain": [
       "<Figure size 720x288 with 1 Axes>"
      ]
     },
     "metadata": {
      "needs_background": "light"
     },
     "output_type": "display_data"
    }
   ],
   "source": [
    "plt.figure(figsize=(10,4))\n",
    "true, = plt.plot(np.array(df['Value'])[-365:])\n",
    "preds, = plt.plot(rolling_predictions)\n",
    "plt.title('Volatility Prediction - Rolling Forecast', fontsize=20)\n",
    "plt.legend(['True Returns', 'Predicted Volatility'], fontsize=16)"
   ]
  },
  {
   "cell_type": "code",
   "execution_count": null,
   "id": "2115db11",
   "metadata": {},
   "outputs": [],
   "source": []
  }
 ],
 "metadata": {
  "kernelspec": {
   "display_name": "Python 3",
   "language": "python",
   "name": "python3"
  },
  "language_info": {
   "codemirror_mode": {
    "name": "ipython",
    "version": 3
   },
   "file_extension": ".py",
   "mimetype": "text/x-python",
   "name": "python",
   "nbconvert_exporter": "python",
   "pygments_lexer": "ipython3",
   "version": "3.8.3"
  }
 },
 "nbformat": 4,
 "nbformat_minor": 5
}
